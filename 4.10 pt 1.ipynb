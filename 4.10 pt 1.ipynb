{
 "cells": [
  {
   "cell_type": "markdown",
   "id": "063a147a",
   "metadata": {},
   "source": [
    "# Contents List: Importing libraries and dataset, checking dataset specifics, remove merge column and check, group states by region,\n",
    "# check Region column, create tables spending/region, create low orders exclusion flag and exclude these then export, create customer profiles,\n",
    "# generate comparisons and visualizations for profiles of spending, region, age and dependents. Export final data set. "
   ]
  },
  {
   "cell_type": "raw",
   "id": "e0117d79",
   "metadata": {},
   "source": []
  },
  {
   "cell_type": "code",
   "execution_count": 1,
   "id": "e2f1d9b2",
   "metadata": {},
   "outputs": [],
   "source": [
    "# Importing libraries\n",
    "import pandas as pd\n",
    "import numpy as np\n",
    "import os\n",
    "import matplotlib.pyplot as plt\n",
    "import seaborn as sns\n",
    "import scipy"
   ]
  },
  {
   "cell_type": "code",
   "execution_count": 2,
   "id": "c9bd9776",
   "metadata": {},
   "outputs": [],
   "source": [
    "# Importing dataframe\n",
    "df = pd.read_pickle(r'C:\\Users\\steph\\OneDrive\\Documents\\May 2022 Instacart Basket Analysis\\02 Data\\Prepared Data\\cust_prods_merged (4.9 pt1).pkl')"
   ]
  },
  {
   "cell_type": "code",
   "execution_count": 3,
   "id": "629fe25e",
   "metadata": {},
   "outputs": [
    {
     "data": {
      "text/html": [
       "<div>\n",
       "<style scoped>\n",
       "    .dataframe tbody tr th:only-of-type {\n",
       "        vertical-align: middle;\n",
       "    }\n",
       "\n",
       "    .dataframe tbody tr th {\n",
       "        vertical-align: top;\n",
       "    }\n",
       "\n",
       "    .dataframe thead th {\n",
       "        text-align: right;\n",
       "    }\n",
       "</style>\n",
       "<table border=\"1\" class=\"dataframe\">\n",
       "  <thead>\n",
       "    <tr style=\"text-align: right;\">\n",
       "      <th></th>\n",
       "      <th>order_id</th>\n",
       "      <th>user_id</th>\n",
       "      <th>order_number</th>\n",
       "      <th>orders_day_of_week</th>\n",
       "      <th>time_of_order</th>\n",
       "      <th>days_since_prior_order</th>\n",
       "      <th>product_id</th>\n",
       "      <th>add_to_cart_order</th>\n",
       "      <th>reordered</th>\n",
       "      <th>product_name</th>\n",
       "      <th>...</th>\n",
       "      <th>Spending_flag</th>\n",
       "      <th>Order_frequency</th>\n",
       "      <th>Frequency_flag</th>\n",
       "      <th>STATE</th>\n",
       "      <th>Age</th>\n",
       "      <th>date_joined</th>\n",
       "      <th>n_dependants</th>\n",
       "      <th>fam_status</th>\n",
       "      <th>income</th>\n",
       "      <th>_merge</th>\n",
       "    </tr>\n",
       "  </thead>\n",
       "  <tbody>\n",
       "    <tr>\n",
       "      <th>0</th>\n",
       "      <td>2539329</td>\n",
       "      <td>1</td>\n",
       "      <td>1</td>\n",
       "      <td>2</td>\n",
       "      <td>8</td>\n",
       "      <td>NaN</td>\n",
       "      <td>196</td>\n",
       "      <td>1</td>\n",
       "      <td>0</td>\n",
       "      <td>Soda</td>\n",
       "      <td>...</td>\n",
       "      <td>Low spender</td>\n",
       "      <td>20.5</td>\n",
       "      <td>Non-frequent customer</td>\n",
       "      <td>Alabama</td>\n",
       "      <td>31</td>\n",
       "      <td>2/17/2019</td>\n",
       "      <td>3</td>\n",
       "      <td>married</td>\n",
       "      <td>40423</td>\n",
       "      <td>both</td>\n",
       "    </tr>\n",
       "    <tr>\n",
       "      <th>1</th>\n",
       "      <td>2398795</td>\n",
       "      <td>1</td>\n",
       "      <td>2</td>\n",
       "      <td>3</td>\n",
       "      <td>7</td>\n",
       "      <td>15.0</td>\n",
       "      <td>196</td>\n",
       "      <td>1</td>\n",
       "      <td>1</td>\n",
       "      <td>Soda</td>\n",
       "      <td>...</td>\n",
       "      <td>Low spender</td>\n",
       "      <td>20.5</td>\n",
       "      <td>Non-frequent customer</td>\n",
       "      <td>Alabama</td>\n",
       "      <td>31</td>\n",
       "      <td>2/17/2019</td>\n",
       "      <td>3</td>\n",
       "      <td>married</td>\n",
       "      <td>40423</td>\n",
       "      <td>both</td>\n",
       "    </tr>\n",
       "    <tr>\n",
       "      <th>2</th>\n",
       "      <td>473747</td>\n",
       "      <td>1</td>\n",
       "      <td>3</td>\n",
       "      <td>3</td>\n",
       "      <td>12</td>\n",
       "      <td>21.0</td>\n",
       "      <td>196</td>\n",
       "      <td>1</td>\n",
       "      <td>1</td>\n",
       "      <td>Soda</td>\n",
       "      <td>...</td>\n",
       "      <td>Low spender</td>\n",
       "      <td>20.5</td>\n",
       "      <td>Non-frequent customer</td>\n",
       "      <td>Alabama</td>\n",
       "      <td>31</td>\n",
       "      <td>2/17/2019</td>\n",
       "      <td>3</td>\n",
       "      <td>married</td>\n",
       "      <td>40423</td>\n",
       "      <td>both</td>\n",
       "    </tr>\n",
       "    <tr>\n",
       "      <th>3</th>\n",
       "      <td>2254736</td>\n",
       "      <td>1</td>\n",
       "      <td>4</td>\n",
       "      <td>4</td>\n",
       "      <td>7</td>\n",
       "      <td>29.0</td>\n",
       "      <td>196</td>\n",
       "      <td>1</td>\n",
       "      <td>1</td>\n",
       "      <td>Soda</td>\n",
       "      <td>...</td>\n",
       "      <td>Low spender</td>\n",
       "      <td>20.5</td>\n",
       "      <td>Non-frequent customer</td>\n",
       "      <td>Alabama</td>\n",
       "      <td>31</td>\n",
       "      <td>2/17/2019</td>\n",
       "      <td>3</td>\n",
       "      <td>married</td>\n",
       "      <td>40423</td>\n",
       "      <td>both</td>\n",
       "    </tr>\n",
       "    <tr>\n",
       "      <th>4</th>\n",
       "      <td>431534</td>\n",
       "      <td>1</td>\n",
       "      <td>5</td>\n",
       "      <td>4</td>\n",
       "      <td>15</td>\n",
       "      <td>28.0</td>\n",
       "      <td>196</td>\n",
       "      <td>1</td>\n",
       "      <td>1</td>\n",
       "      <td>Soda</td>\n",
       "      <td>...</td>\n",
       "      <td>Low spender</td>\n",
       "      <td>20.5</td>\n",
       "      <td>Non-frequent customer</td>\n",
       "      <td>Alabama</td>\n",
       "      <td>31</td>\n",
       "      <td>2/17/2019</td>\n",
       "      <td>3</td>\n",
       "      <td>married</td>\n",
       "      <td>40423</td>\n",
       "      <td>both</td>\n",
       "    </tr>\n",
       "  </tbody>\n",
       "</table>\n",
       "<p>5 rows × 28 columns</p>\n",
       "</div>"
      ],
      "text/plain": [
       "   order_id  user_id  order_number  orders_day_of_week  time_of_order  \\\n",
       "0   2539329        1             1                   2              8   \n",
       "1   2398795        1             2                   3              7   \n",
       "2    473747        1             3                   3             12   \n",
       "3   2254736        1             4                   4              7   \n",
       "4    431534        1             5                   4             15   \n",
       "\n",
       "   days_since_prior_order  product_id  add_to_cart_order  reordered  \\\n",
       "0                     NaN         196                  1          0   \n",
       "1                    15.0         196                  1          1   \n",
       "2                    21.0         196                  1          1   \n",
       "3                    29.0         196                  1          1   \n",
       "4                    28.0         196                  1          1   \n",
       "\n",
       "  product_name  ...  Spending_flag  Order_frequency         Frequency_flag  \\\n",
       "0         Soda  ...    Low spender             20.5  Non-frequent customer   \n",
       "1         Soda  ...    Low spender             20.5  Non-frequent customer   \n",
       "2         Soda  ...    Low spender             20.5  Non-frequent customer   \n",
       "3         Soda  ...    Low spender             20.5  Non-frequent customer   \n",
       "4         Soda  ...    Low spender             20.5  Non-frequent customer   \n",
       "\n",
       "     STATE Age  date_joined n_dependants  fam_status income  _merge  \n",
       "0  Alabama  31    2/17/2019            3     married  40423    both  \n",
       "1  Alabama  31    2/17/2019            3     married  40423    both  \n",
       "2  Alabama  31    2/17/2019            3     married  40423    both  \n",
       "3  Alabama  31    2/17/2019            3     married  40423    both  \n",
       "4  Alabama  31    2/17/2019            3     married  40423    both  \n",
       "\n",
       "[5 rows x 28 columns]"
      ]
     },
     "execution_count": 3,
     "metadata": {},
     "output_type": "execute_result"
    }
   ],
   "source": [
    "# Checking df specs\n",
    "df.head()"
   ]
  },
  {
   "cell_type": "code",
   "execution_count": 4,
   "id": "f98b0ab6",
   "metadata": {},
   "outputs": [
    {
     "data": {
      "text/plain": [
       "(32404859, 28)"
      ]
     },
     "execution_count": 4,
     "metadata": {},
     "output_type": "execute_result"
    }
   ],
   "source": [
    "df.shape"
   ]
  },
  {
   "cell_type": "code",
   "execution_count": 5,
   "id": "7db22456",
   "metadata": {},
   "outputs": [
    {
     "data": {
      "text/plain": [
       "order_id                     int32\n",
       "user_id                      int32\n",
       "order_number                  int8\n",
       "orders_day_of_week            int8\n",
       "time_of_order                 int8\n",
       "days_since_prior_order     float32\n",
       "product_id                   int32\n",
       "add_to_cart_order            int16\n",
       "reordered                     int8\n",
       "product_name              category\n",
       "aisle_id                     int16\n",
       "department_id                 int8\n",
       "prices                       int32\n",
       "busiest_days              category\n",
       "busiest_period_of_day     category\n",
       "max_order                     int8\n",
       "loyalty_flag              category\n",
       "Spending                   float32\n",
       "Spending_flag             category\n",
       "Order_frequency            float32\n",
       "Frequency_flag            category\n",
       "STATE                     category\n",
       "Age                          int64\n",
       "date_joined               category\n",
       "n_dependants                 int64\n",
       "fam_status                category\n",
       "income                       int64\n",
       "_merge                    category\n",
       "dtype: object"
      ]
     },
     "execution_count": 5,
     "metadata": {},
     "output_type": "execute_result"
    }
   ],
   "source": [
    "df.dtypes\n"
   ]
  },
  {
   "cell_type": "code",
   "execution_count": 6,
   "id": "b293fec2",
   "metadata": {},
   "outputs": [
    {
     "name": "stderr",
     "output_type": "stream",
     "text": [
      "C:\\Users\\steph\\AppData\\Local\\Temp\\ipykernel_2528\\126422336.py:1: FutureWarning: In a future version of pandas all arguments of DataFrame.drop except for the argument 'labels' will be keyword-only.\n",
      "  df = df.drop('_merge', 1)\n"
     ]
    }
   ],
   "source": [
    "# Removing unnecessary column merge\n",
    "df = df.drop('_merge', 1)"
   ]
  },
  {
   "cell_type": "code",
   "execution_count": 8,
   "id": "55361538",
   "metadata": {},
   "outputs": [
    {
     "data": {
      "text/html": [
       "<div>\n",
       "<style scoped>\n",
       "    .dataframe tbody tr th:only-of-type {\n",
       "        vertical-align: middle;\n",
       "    }\n",
       "\n",
       "    .dataframe tbody tr th {\n",
       "        vertical-align: top;\n",
       "    }\n",
       "\n",
       "    .dataframe thead th {\n",
       "        text-align: right;\n",
       "    }\n",
       "</style>\n",
       "<table border=\"1\" class=\"dataframe\">\n",
       "  <thead>\n",
       "    <tr style=\"text-align: right;\">\n",
       "      <th></th>\n",
       "      <th>order_id</th>\n",
       "      <th>user_id</th>\n",
       "      <th>order_number</th>\n",
       "      <th>orders_day_of_week</th>\n",
       "      <th>time_of_order</th>\n",
       "      <th>days_since_prior_order</th>\n",
       "      <th>product_id</th>\n",
       "      <th>add_to_cart_order</th>\n",
       "      <th>reordered</th>\n",
       "      <th>product_name</th>\n",
       "      <th>...</th>\n",
       "      <th>Spending</th>\n",
       "      <th>Spending_flag</th>\n",
       "      <th>Order_frequency</th>\n",
       "      <th>Frequency_flag</th>\n",
       "      <th>STATE</th>\n",
       "      <th>Age</th>\n",
       "      <th>date_joined</th>\n",
       "      <th>n_dependants</th>\n",
       "      <th>fam_status</th>\n",
       "      <th>income</th>\n",
       "    </tr>\n",
       "  </thead>\n",
       "  <tbody>\n",
       "    <tr>\n",
       "      <th>0</th>\n",
       "      <td>2539329</td>\n",
       "      <td>1</td>\n",
       "      <td>1</td>\n",
       "      <td>2</td>\n",
       "      <td>8</td>\n",
       "      <td>NaN</td>\n",
       "      <td>196</td>\n",
       "      <td>1</td>\n",
       "      <td>0</td>\n",
       "      <td>Soda</td>\n",
       "      <td>...</td>\n",
       "      <td>6.367797</td>\n",
       "      <td>Low spender</td>\n",
       "      <td>20.5</td>\n",
       "      <td>Non-frequent customer</td>\n",
       "      <td>Alabama</td>\n",
       "      <td>31</td>\n",
       "      <td>2/17/2019</td>\n",
       "      <td>3</td>\n",
       "      <td>married</td>\n",
       "      <td>40423</td>\n",
       "    </tr>\n",
       "    <tr>\n",
       "      <th>1</th>\n",
       "      <td>2398795</td>\n",
       "      <td>1</td>\n",
       "      <td>2</td>\n",
       "      <td>3</td>\n",
       "      <td>7</td>\n",
       "      <td>15.0</td>\n",
       "      <td>196</td>\n",
       "      <td>1</td>\n",
       "      <td>1</td>\n",
       "      <td>Soda</td>\n",
       "      <td>...</td>\n",
       "      <td>6.367797</td>\n",
       "      <td>Low spender</td>\n",
       "      <td>20.5</td>\n",
       "      <td>Non-frequent customer</td>\n",
       "      <td>Alabama</td>\n",
       "      <td>31</td>\n",
       "      <td>2/17/2019</td>\n",
       "      <td>3</td>\n",
       "      <td>married</td>\n",
       "      <td>40423</td>\n",
       "    </tr>\n",
       "    <tr>\n",
       "      <th>2</th>\n",
       "      <td>473747</td>\n",
       "      <td>1</td>\n",
       "      <td>3</td>\n",
       "      <td>3</td>\n",
       "      <td>12</td>\n",
       "      <td>21.0</td>\n",
       "      <td>196</td>\n",
       "      <td>1</td>\n",
       "      <td>1</td>\n",
       "      <td>Soda</td>\n",
       "      <td>...</td>\n",
       "      <td>6.367797</td>\n",
       "      <td>Low spender</td>\n",
       "      <td>20.5</td>\n",
       "      <td>Non-frequent customer</td>\n",
       "      <td>Alabama</td>\n",
       "      <td>31</td>\n",
       "      <td>2/17/2019</td>\n",
       "      <td>3</td>\n",
       "      <td>married</td>\n",
       "      <td>40423</td>\n",
       "    </tr>\n",
       "    <tr>\n",
       "      <th>3</th>\n",
       "      <td>2254736</td>\n",
       "      <td>1</td>\n",
       "      <td>4</td>\n",
       "      <td>4</td>\n",
       "      <td>7</td>\n",
       "      <td>29.0</td>\n",
       "      <td>196</td>\n",
       "      <td>1</td>\n",
       "      <td>1</td>\n",
       "      <td>Soda</td>\n",
       "      <td>...</td>\n",
       "      <td>6.367797</td>\n",
       "      <td>Low spender</td>\n",
       "      <td>20.5</td>\n",
       "      <td>Non-frequent customer</td>\n",
       "      <td>Alabama</td>\n",
       "      <td>31</td>\n",
       "      <td>2/17/2019</td>\n",
       "      <td>3</td>\n",
       "      <td>married</td>\n",
       "      <td>40423</td>\n",
       "    </tr>\n",
       "    <tr>\n",
       "      <th>4</th>\n",
       "      <td>431534</td>\n",
       "      <td>1</td>\n",
       "      <td>5</td>\n",
       "      <td>4</td>\n",
       "      <td>15</td>\n",
       "      <td>28.0</td>\n",
       "      <td>196</td>\n",
       "      <td>1</td>\n",
       "      <td>1</td>\n",
       "      <td>Soda</td>\n",
       "      <td>...</td>\n",
       "      <td>6.367797</td>\n",
       "      <td>Low spender</td>\n",
       "      <td>20.5</td>\n",
       "      <td>Non-frequent customer</td>\n",
       "      <td>Alabama</td>\n",
       "      <td>31</td>\n",
       "      <td>2/17/2019</td>\n",
       "      <td>3</td>\n",
       "      <td>married</td>\n",
       "      <td>40423</td>\n",
       "    </tr>\n",
       "  </tbody>\n",
       "</table>\n",
       "<p>5 rows × 27 columns</p>\n",
       "</div>"
      ],
      "text/plain": [
       "   order_id  user_id  order_number  orders_day_of_week  time_of_order  \\\n",
       "0   2539329        1             1                   2              8   \n",
       "1   2398795        1             2                   3              7   \n",
       "2    473747        1             3                   3             12   \n",
       "3   2254736        1             4                   4              7   \n",
       "4    431534        1             5                   4             15   \n",
       "\n",
       "   days_since_prior_order  product_id  add_to_cart_order  reordered  \\\n",
       "0                     NaN         196                  1          0   \n",
       "1                    15.0         196                  1          1   \n",
       "2                    21.0         196                  1          1   \n",
       "3                    29.0         196                  1          1   \n",
       "4                    28.0         196                  1          1   \n",
       "\n",
       "  product_name  ...  Spending  Spending_flag  Order_frequency  \\\n",
       "0         Soda  ...  6.367797    Low spender             20.5   \n",
       "1         Soda  ...  6.367797    Low spender             20.5   \n",
       "2         Soda  ...  6.367797    Low spender             20.5   \n",
       "3         Soda  ...  6.367797    Low spender             20.5   \n",
       "4         Soda  ...  6.367797    Low spender             20.5   \n",
       "\n",
       "          Frequency_flag    STATE  Age date_joined  n_dependants fam_status  \\\n",
       "0  Non-frequent customer  Alabama   31   2/17/2019             3    married   \n",
       "1  Non-frequent customer  Alabama   31   2/17/2019             3    married   \n",
       "2  Non-frequent customer  Alabama   31   2/17/2019             3    married   \n",
       "3  Non-frequent customer  Alabama   31   2/17/2019             3    married   \n",
       "4  Non-frequent customer  Alabama   31   2/17/2019             3    married   \n",
       "\n",
       "   income  \n",
       "0   40423  \n",
       "1   40423  \n",
       "2   40423  \n",
       "3   40423  \n",
       "4   40423  \n",
       "\n",
       "[5 rows x 27 columns]"
      ]
     },
     "execution_count": 8,
     "metadata": {},
     "output_type": "execute_result"
    }
   ],
   "source": [
    "# Verifying merge column deletion\n",
    "df.head()"
   ]
  },
  {
   "cell_type": "code",
   "execution_count": 14,
   "id": "29e4e1e8",
   "metadata": {},
   "outputs": [],
   "source": [
    "# Creating a new column grouping states by region\n",
    "df.loc[df['STATE'] == \"Maine\", 'Region'] = 'Northeast'"
   ]
  },
  {
   "cell_type": "code",
   "execution_count": 15,
   "id": "590fcc66",
   "metadata": {},
   "outputs": [],
   "source": [
    "df.loc[df['STATE'] == \"New Hampshire\", 'Region'] = 'Northeast'"
   ]
  },
  {
   "cell_type": "code",
   "execution_count": 16,
   "id": "850ed172",
   "metadata": {},
   "outputs": [],
   "source": [
    "df.loc[df['STATE'] == \"Vermont\", 'Region'] = 'Northeast'"
   ]
  },
  {
   "cell_type": "code",
   "execution_count": 17,
   "id": "c39a5d87",
   "metadata": {},
   "outputs": [],
   "source": [
    "df.loc[df['STATE'] == \"Massachusetts\", 'Region'] = 'Northeast'"
   ]
  },
  {
   "cell_type": "code",
   "execution_count": 18,
   "id": "4a241d11",
   "metadata": {},
   "outputs": [],
   "source": [
    "df.loc[df['STATE'] == \"Rhode Island\", 'Region'] = 'Northeast'"
   ]
  },
  {
   "cell_type": "code",
   "execution_count": 19,
   "id": "6e68b554",
   "metadata": {},
   "outputs": [],
   "source": [
    "df.loc[df['STATE'] == \"Connecticut\", 'Region'] = 'Northeast'"
   ]
  },
  {
   "cell_type": "code",
   "execution_count": 20,
   "id": "43bce8a1",
   "metadata": {},
   "outputs": [],
   "source": [
    "df.loc[df['STATE'] == \"New York\", 'Region'] = 'Northeast'"
   ]
  },
  {
   "cell_type": "code",
   "execution_count": 21,
   "id": "a7bd1e2b",
   "metadata": {},
   "outputs": [],
   "source": [
    "df.loc[df['STATE'] == \"Pennsylvania\", 'Region'] = 'Northeast'"
   ]
  },
  {
   "cell_type": "code",
   "execution_count": 22,
   "id": "7704d7b1",
   "metadata": {},
   "outputs": [],
   "source": [
    "df.loc[df['STATE'] == \"New Jersey\", 'Region'] = 'Northeast'"
   ]
  },
  {
   "cell_type": "code",
   "execution_count": 28,
   "id": "c59d9490",
   "metadata": {},
   "outputs": [],
   "source": [
    "df.loc[df['STATE'] == \"Wisconsin\", 'Region'] = 'Midwest'"
   ]
  },
  {
   "cell_type": "code",
   "execution_count": 29,
   "id": "4274bb19",
   "metadata": {},
   "outputs": [],
   "source": [
    "df.loc[df['STATE'] == \"Michigan\", 'Region'] = 'Midwest'"
   ]
  },
  {
   "cell_type": "code",
   "execution_count": 30,
   "id": "2f259dff",
   "metadata": {},
   "outputs": [],
   "source": [
    "df.loc[df['STATE'] == \"Illinois\", 'Region'] = 'Midwest'"
   ]
  },
  {
   "cell_type": "code",
   "execution_count": 31,
   "id": "c487ce55",
   "metadata": {},
   "outputs": [],
   "source": [
    "df.loc[df['STATE'] == \"Indiana\", 'Region'] = 'Midwest'"
   ]
  },
  {
   "cell_type": "code",
   "execution_count": 32,
   "id": "780937cb",
   "metadata": {},
   "outputs": [],
   "source": [
    "df.loc[df['STATE'] == \"Ohio\", 'Region'] = 'Midwest'"
   ]
  },
  {
   "cell_type": "code",
   "execution_count": 33,
   "id": "36cd62e7",
   "metadata": {},
   "outputs": [],
   "source": [
    "df.loc[df['STATE'] == \"North Dakota\", 'Region'] = 'Midwest'"
   ]
  },
  {
   "cell_type": "code",
   "execution_count": 34,
   "id": "14902fd8",
   "metadata": {},
   "outputs": [],
   "source": [
    "df.loc[df['STATE'] == \"South Dakota\", 'Region'] = 'Midwest'"
   ]
  },
  {
   "cell_type": "code",
   "execution_count": 35,
   "id": "f422f970",
   "metadata": {},
   "outputs": [],
   "source": [
    "df.loc[df['STATE'] == \"Nebraska\", 'Region'] = 'Midwest'"
   ]
  },
  {
   "cell_type": "code",
   "execution_count": 36,
   "id": "77071e61",
   "metadata": {},
   "outputs": [],
   "source": [
    "df.loc[df['STATE'] == \"Kansas\", 'Region'] = 'Midwest'"
   ]
  },
  {
   "cell_type": "code",
   "execution_count": 37,
   "id": "cf73c459",
   "metadata": {},
   "outputs": [],
   "source": [
    "df.loc[df['STATE'] == \"Minnesota\", 'Region'] = 'Midwest'"
   ]
  },
  {
   "cell_type": "code",
   "execution_count": 38,
   "id": "d4b5dcdb",
   "metadata": {},
   "outputs": [],
   "source": [
    "df.loc[df['STATE'] == \"Iowa\", 'Region'] = 'Midwest'"
   ]
  },
  {
   "cell_type": "code",
   "execution_count": 39,
   "id": "c2ca9840",
   "metadata": {},
   "outputs": [],
   "source": [
    "df.loc[df['STATE'] == \"Missouri\", 'Region'] = 'Midwest'"
   ]
  },
  {
   "cell_type": "code",
   "execution_count": 40,
   "id": "7f693470",
   "metadata": {},
   "outputs": [],
   "source": [
    "df.loc[df['STATE'] == \"Delaware\", 'Region'] = 'South'"
   ]
  },
  {
   "cell_type": "code",
   "execution_count": 41,
   "id": "9615844a",
   "metadata": {},
   "outputs": [],
   "source": [
    "df.loc[df['STATE'] == \"Maryland\", 'Region'] = 'South'"
   ]
  },
  {
   "cell_type": "code",
   "execution_count": 42,
   "id": "8745916f",
   "metadata": {},
   "outputs": [],
   "source": [
    "df.loc[df['STATE'] == \"District of Columbia\", 'Region'] = 'South'"
   ]
  },
  {
   "cell_type": "code",
   "execution_count": 43,
   "id": "82e65523",
   "metadata": {},
   "outputs": [],
   "source": [
    "df.loc[df['STATE'] == \"Virginia\", 'Region'] = 'South'"
   ]
  },
  {
   "cell_type": "code",
   "execution_count": 44,
   "id": "89cd4e42",
   "metadata": {},
   "outputs": [],
   "source": [
    "df.loc[df['STATE'] == \"West Virginia\", 'Region'] = 'South'"
   ]
  },
  {
   "cell_type": "code",
   "execution_count": 45,
   "id": "cf67c3d5",
   "metadata": {},
   "outputs": [],
   "source": [
    "df.loc[df['STATE'] == \"North Carolina\", 'Region'] = 'South'"
   ]
  },
  {
   "cell_type": "code",
   "execution_count": 46,
   "id": "eba987f1",
   "metadata": {},
   "outputs": [],
   "source": [
    "df.loc[df['STATE'] == \"South Carolina\", 'Region'] = 'South'"
   ]
  },
  {
   "cell_type": "code",
   "execution_count": 47,
   "id": "15ebb275",
   "metadata": {},
   "outputs": [],
   "source": [
    "df.loc[df['STATE'] == \"Georgia\", 'Region'] = 'South'"
   ]
  },
  {
   "cell_type": "code",
   "execution_count": 48,
   "id": "b34be366",
   "metadata": {},
   "outputs": [],
   "source": [
    "df.loc[df['STATE'] == \"Florida\", 'Region'] = 'South'"
   ]
  },
  {
   "cell_type": "code",
   "execution_count": 49,
   "id": "65e380d9",
   "metadata": {},
   "outputs": [],
   "source": [
    "df.loc[df['STATE'] == \"Kentucky\", 'Region'] = 'South'"
   ]
  },
  {
   "cell_type": "code",
   "execution_count": 50,
   "id": "d3332ef1",
   "metadata": {},
   "outputs": [],
   "source": [
    "df.loc[df['STATE'] == \"Tennessee\", 'Region'] = 'South'"
   ]
  },
  {
   "cell_type": "code",
   "execution_count": 51,
   "id": "71a6a787",
   "metadata": {},
   "outputs": [],
   "source": [
    "df.loc[df['STATE'] == \"Mississippi\", 'Region'] = 'South'"
   ]
  },
  {
   "cell_type": "code",
   "execution_count": 52,
   "id": "f36dde98",
   "metadata": {},
   "outputs": [],
   "source": [
    "df.loc[df['STATE'] == \"Alabama\", 'Region'] = 'South'"
   ]
  },
  {
   "cell_type": "code",
   "execution_count": 53,
   "id": "91eac32b",
   "metadata": {},
   "outputs": [],
   "source": [
    "df.loc[df['STATE'] == \"Oklahoma\", 'Region'] = 'South'"
   ]
  },
  {
   "cell_type": "code",
   "execution_count": 54,
   "id": "8540b47c",
   "metadata": {},
   "outputs": [],
   "source": [
    "df.loc[df['STATE'] == \"Texas\", 'Region'] = 'South'"
   ]
  },
  {
   "cell_type": "code",
   "execution_count": 55,
   "id": "8336d630",
   "metadata": {},
   "outputs": [],
   "source": [
    "df.loc[df['STATE'] == \"Arkansas\", 'Region'] = 'South'"
   ]
  },
  {
   "cell_type": "code",
   "execution_count": 56,
   "id": "056eafd6",
   "metadata": {},
   "outputs": [],
   "source": [
    "df.loc[df['STATE'] == \"Louisiana\", 'Region'] = 'South'"
   ]
  },
  {
   "cell_type": "code",
   "execution_count": 60,
   "id": "47241a6d",
   "metadata": {},
   "outputs": [],
   "source": [
    "df.loc[df['STATE'] == \"Idaho\", 'Region'] = 'West'"
   ]
  },
  {
   "cell_type": "code",
   "execution_count": 61,
   "id": "9d31a75a",
   "metadata": {},
   "outputs": [],
   "source": [
    "df.loc[df['STATE'] == \"Montana\", 'Region'] = 'West'"
   ]
  },
  {
   "cell_type": "code",
   "execution_count": 62,
   "id": "549f6d0a",
   "metadata": {},
   "outputs": [],
   "source": [
    "df.loc[df['STATE'] == \"Wyoming\", 'Region'] = 'West'"
   ]
  },
  {
   "cell_type": "code",
   "execution_count": 63,
   "id": "9a6abd95",
   "metadata": {},
   "outputs": [],
   "source": [
    "df.loc[df['STATE'] == \"Nevada\", 'Region'] = 'West'"
   ]
  },
  {
   "cell_type": "code",
   "execution_count": 64,
   "id": "b2cd74e5",
   "metadata": {},
   "outputs": [],
   "source": [
    "df.loc[df['STATE'] == \"Utah\", 'Region'] = 'West'"
   ]
  },
  {
   "cell_type": "code",
   "execution_count": 65,
   "id": "28805916",
   "metadata": {},
   "outputs": [],
   "source": [
    "df.loc[df['STATE'] == \"Colorado\", 'Region'] = 'West'"
   ]
  },
  {
   "cell_type": "code",
   "execution_count": 66,
   "id": "e794eb8b",
   "metadata": {},
   "outputs": [],
   "source": [
    "df.loc[df['STATE'] == \"Arizona\", 'Region'] = 'West'"
   ]
  },
  {
   "cell_type": "code",
   "execution_count": 67,
   "id": "03343a53",
   "metadata": {},
   "outputs": [],
   "source": [
    "df.loc[df['STATE'] == \"New Mexico\", 'Region'] = 'West'"
   ]
  },
  {
   "cell_type": "code",
   "execution_count": 68,
   "id": "7bb3ee77",
   "metadata": {},
   "outputs": [],
   "source": [
    "df.loc[df['STATE'] == \"Alaska\", 'Region'] = 'West'"
   ]
  },
  {
   "cell_type": "code",
   "execution_count": 69,
   "id": "5b8fd91c",
   "metadata": {},
   "outputs": [],
   "source": [
    "df.loc[df['STATE'] == \"Washington\", 'Region'] = 'West'"
   ]
  },
  {
   "cell_type": "code",
   "execution_count": 70,
   "id": "c39784f0",
   "metadata": {},
   "outputs": [],
   "source": [
    "df.loc[df['STATE'] == \"Oregon\", 'Region'] = 'West'"
   ]
  },
  {
   "cell_type": "code",
   "execution_count": 71,
   "id": "81bb1fa9",
   "metadata": {},
   "outputs": [],
   "source": [
    "df.loc[df['STATE'] == \"California\", 'Region'] = 'West'"
   ]
  },
  {
   "cell_type": "code",
   "execution_count": 72,
   "id": "b2fddaca",
   "metadata": {},
   "outputs": [],
   "source": [
    "df.loc[df['STATE'] == \"Hawaii\", 'Region'] = 'West'"
   ]
  },
  {
   "cell_type": "code",
   "execution_count": 73,
   "id": "bb6c0739",
   "metadata": {},
   "outputs": [
    {
     "data": {
      "text/plain": [
       "order_id                        0\n",
       "user_id                         0\n",
       "order_number                    0\n",
       "orders_day_of_week              0\n",
       "time_of_order                   0\n",
       "days_since_prior_order    2076096\n",
       "product_id                      0\n",
       "add_to_cart_order               0\n",
       "reordered                       0\n",
       "product_name                    0\n",
       "aisle_id                        0\n",
       "department_id                   0\n",
       "prices                          0\n",
       "busiest_days                    0\n",
       "busiest_period_of_day           0\n",
       "max_order                       0\n",
       "loyalty_flag                    0\n",
       "Spending                        0\n",
       "Spending_flag                   0\n",
       "Order_frequency                 5\n",
       "Frequency_flag                  0\n",
       "STATE                           0\n",
       "Age                             0\n",
       "date_joined                     0\n",
       "n_dependants                    0\n",
       "fam_status                      0\n",
       "income                          0\n",
       "Region                          0\n",
       "dtype: int64"
      ]
     },
     "execution_count": 73,
     "metadata": {},
     "output_type": "execute_result"
    }
   ],
   "source": [
    "# Checking for accuracy and missing values in Region column\n",
    "df.isnull().sum()"
   ]
  },
  {
   "cell_type": "code",
   "execution_count": 75,
   "id": "cf055f28",
   "metadata": {},
   "outputs": [
    {
     "data": {
      "text/html": [
       "<div>\n",
       "<style scoped>\n",
       "    .dataframe tbody tr th:only-of-type {\n",
       "        vertical-align: middle;\n",
       "    }\n",
       "\n",
       "    .dataframe tbody tr th {\n",
       "        vertical-align: top;\n",
       "    }\n",
       "\n",
       "    .dataframe thead th {\n",
       "        text-align: right;\n",
       "    }\n",
       "</style>\n",
       "<table border=\"1\" class=\"dataframe\">\n",
       "  <thead>\n",
       "    <tr style=\"text-align: right;\">\n",
       "      <th></th>\n",
       "      <th>order_id</th>\n",
       "      <th>user_id</th>\n",
       "      <th>order_number</th>\n",
       "      <th>orders_day_of_week</th>\n",
       "      <th>time_of_order</th>\n",
       "      <th>days_since_prior_order</th>\n",
       "      <th>product_id</th>\n",
       "      <th>add_to_cart_order</th>\n",
       "      <th>reordered</th>\n",
       "      <th>product_name</th>\n",
       "      <th>...</th>\n",
       "      <th>Spending_flag</th>\n",
       "      <th>Order_frequency</th>\n",
       "      <th>Frequency_flag</th>\n",
       "      <th>STATE</th>\n",
       "      <th>Age</th>\n",
       "      <th>date_joined</th>\n",
       "      <th>n_dependants</th>\n",
       "      <th>fam_status</th>\n",
       "      <th>income</th>\n",
       "      <th>Region</th>\n",
       "    </tr>\n",
       "  </thead>\n",
       "  <tbody>\n",
       "    <tr>\n",
       "      <th>0</th>\n",
       "      <td>2539329</td>\n",
       "      <td>1</td>\n",
       "      <td>1</td>\n",
       "      <td>2</td>\n",
       "      <td>8</td>\n",
       "      <td>NaN</td>\n",
       "      <td>196</td>\n",
       "      <td>1</td>\n",
       "      <td>0</td>\n",
       "      <td>Soda</td>\n",
       "      <td>...</td>\n",
       "      <td>Low spender</td>\n",
       "      <td>20.5</td>\n",
       "      <td>Non-frequent customer</td>\n",
       "      <td>Alabama</td>\n",
       "      <td>31</td>\n",
       "      <td>2/17/2019</td>\n",
       "      <td>3</td>\n",
       "      <td>married</td>\n",
       "      <td>40423</td>\n",
       "      <td>South</td>\n",
       "    </tr>\n",
       "    <tr>\n",
       "      <th>1</th>\n",
       "      <td>2398795</td>\n",
       "      <td>1</td>\n",
       "      <td>2</td>\n",
       "      <td>3</td>\n",
       "      <td>7</td>\n",
       "      <td>15.0</td>\n",
       "      <td>196</td>\n",
       "      <td>1</td>\n",
       "      <td>1</td>\n",
       "      <td>Soda</td>\n",
       "      <td>...</td>\n",
       "      <td>Low spender</td>\n",
       "      <td>20.5</td>\n",
       "      <td>Non-frequent customer</td>\n",
       "      <td>Alabama</td>\n",
       "      <td>31</td>\n",
       "      <td>2/17/2019</td>\n",
       "      <td>3</td>\n",
       "      <td>married</td>\n",
       "      <td>40423</td>\n",
       "      <td>South</td>\n",
       "    </tr>\n",
       "    <tr>\n",
       "      <th>2</th>\n",
       "      <td>473747</td>\n",
       "      <td>1</td>\n",
       "      <td>3</td>\n",
       "      <td>3</td>\n",
       "      <td>12</td>\n",
       "      <td>21.0</td>\n",
       "      <td>196</td>\n",
       "      <td>1</td>\n",
       "      <td>1</td>\n",
       "      <td>Soda</td>\n",
       "      <td>...</td>\n",
       "      <td>Low spender</td>\n",
       "      <td>20.5</td>\n",
       "      <td>Non-frequent customer</td>\n",
       "      <td>Alabama</td>\n",
       "      <td>31</td>\n",
       "      <td>2/17/2019</td>\n",
       "      <td>3</td>\n",
       "      <td>married</td>\n",
       "      <td>40423</td>\n",
       "      <td>South</td>\n",
       "    </tr>\n",
       "    <tr>\n",
       "      <th>3</th>\n",
       "      <td>2254736</td>\n",
       "      <td>1</td>\n",
       "      <td>4</td>\n",
       "      <td>4</td>\n",
       "      <td>7</td>\n",
       "      <td>29.0</td>\n",
       "      <td>196</td>\n",
       "      <td>1</td>\n",
       "      <td>1</td>\n",
       "      <td>Soda</td>\n",
       "      <td>...</td>\n",
       "      <td>Low spender</td>\n",
       "      <td>20.5</td>\n",
       "      <td>Non-frequent customer</td>\n",
       "      <td>Alabama</td>\n",
       "      <td>31</td>\n",
       "      <td>2/17/2019</td>\n",
       "      <td>3</td>\n",
       "      <td>married</td>\n",
       "      <td>40423</td>\n",
       "      <td>South</td>\n",
       "    </tr>\n",
       "    <tr>\n",
       "      <th>4</th>\n",
       "      <td>431534</td>\n",
       "      <td>1</td>\n",
       "      <td>5</td>\n",
       "      <td>4</td>\n",
       "      <td>15</td>\n",
       "      <td>28.0</td>\n",
       "      <td>196</td>\n",
       "      <td>1</td>\n",
       "      <td>1</td>\n",
       "      <td>Soda</td>\n",
       "      <td>...</td>\n",
       "      <td>Low spender</td>\n",
       "      <td>20.5</td>\n",
       "      <td>Non-frequent customer</td>\n",
       "      <td>Alabama</td>\n",
       "      <td>31</td>\n",
       "      <td>2/17/2019</td>\n",
       "      <td>3</td>\n",
       "      <td>married</td>\n",
       "      <td>40423</td>\n",
       "      <td>South</td>\n",
       "    </tr>\n",
       "  </tbody>\n",
       "</table>\n",
       "<p>5 rows × 28 columns</p>\n",
       "</div>"
      ],
      "text/plain": [
       "   order_id  user_id  order_number  orders_day_of_week  time_of_order  \\\n",
       "0   2539329        1             1                   2              8   \n",
       "1   2398795        1             2                   3              7   \n",
       "2    473747        1             3                   3             12   \n",
       "3   2254736        1             4                   4              7   \n",
       "4    431534        1             5                   4             15   \n",
       "\n",
       "   days_since_prior_order  product_id  add_to_cart_order  reordered  \\\n",
       "0                     NaN         196                  1          0   \n",
       "1                    15.0         196                  1          1   \n",
       "2                    21.0         196                  1          1   \n",
       "3                    29.0         196                  1          1   \n",
       "4                    28.0         196                  1          1   \n",
       "\n",
       "  product_name  ...  Spending_flag  Order_frequency         Frequency_flag  \\\n",
       "0         Soda  ...    Low spender             20.5  Non-frequent customer   \n",
       "1         Soda  ...    Low spender             20.5  Non-frequent customer   \n",
       "2         Soda  ...    Low spender             20.5  Non-frequent customer   \n",
       "3         Soda  ...    Low spender             20.5  Non-frequent customer   \n",
       "4         Soda  ...    Low spender             20.5  Non-frequent customer   \n",
       "\n",
       "     STATE Age  date_joined n_dependants  fam_status income  Region  \n",
       "0  Alabama  31    2/17/2019            3     married  40423   South  \n",
       "1  Alabama  31    2/17/2019            3     married  40423   South  \n",
       "2  Alabama  31    2/17/2019            3     married  40423   South  \n",
       "3  Alabama  31    2/17/2019            3     married  40423   South  \n",
       "4  Alabama  31    2/17/2019            3     married  40423   South  \n",
       "\n",
       "[5 rows x 28 columns]"
      ]
     },
     "execution_count": 75,
     "metadata": {},
     "output_type": "execute_result"
    }
   ],
   "source": [
    "df.head(5)"
   ]
  },
  {
   "cell_type": "code",
   "execution_count": 76,
   "id": "54e37b1a",
   "metadata": {},
   "outputs": [],
   "source": [
    "# Creating table investigating spending habits by region\n",
    "crosstab = pd.crosstab(df['Spending_flag'], df['Region'], dropna = False)"
   ]
  },
  {
   "cell_type": "code",
   "execution_count": 77,
   "id": "dde8c5d3",
   "metadata": {},
   "outputs": [],
   "source": [
    "# Sending spending table to excel\n",
    "crosstab.to_clipboard()"
   ]
  },
  {
   "cell_type": "code",
   "execution_count": 93,
   "id": "78b78ec2",
   "metadata": {},
   "outputs": [],
   "source": [
    "df.loc[df['max_order'] < 5, 'low_orders_flag'] = 'low orders'\n",
    "df.loc[df['max_order'] >= 5, 'low_orders_flag'] = 'good orders'"
   ]
  },
  {
   "cell_type": "code",
   "execution_count": 94,
   "id": "77ac23b9",
   "metadata": {},
   "outputs": [
    {
     "data": {
      "text/html": [
       "<div>\n",
       "<style scoped>\n",
       "    .dataframe tbody tr th:only-of-type {\n",
       "        vertical-align: middle;\n",
       "    }\n",
       "\n",
       "    .dataframe tbody tr th {\n",
       "        vertical-align: top;\n",
       "    }\n",
       "\n",
       "    .dataframe thead th {\n",
       "        text-align: right;\n",
       "    }\n",
       "</style>\n",
       "<table border=\"1\" class=\"dataframe\">\n",
       "  <thead>\n",
       "    <tr style=\"text-align: right;\">\n",
       "      <th></th>\n",
       "      <th>order_id</th>\n",
       "      <th>user_id</th>\n",
       "      <th>order_number</th>\n",
       "      <th>orders_day_of_week</th>\n",
       "      <th>time_of_order</th>\n",
       "      <th>days_since_prior_order</th>\n",
       "      <th>product_id</th>\n",
       "      <th>add_to_cart_order</th>\n",
       "      <th>reordered</th>\n",
       "      <th>product_name</th>\n",
       "      <th>...</th>\n",
       "      <th>Order_frequency</th>\n",
       "      <th>Frequency_flag</th>\n",
       "      <th>STATE</th>\n",
       "      <th>Age</th>\n",
       "      <th>date_joined</th>\n",
       "      <th>n_dependants</th>\n",
       "      <th>fam_status</th>\n",
       "      <th>income</th>\n",
       "      <th>Region</th>\n",
       "      <th>low_orders_flag</th>\n",
       "    </tr>\n",
       "  </thead>\n",
       "  <tbody>\n",
       "    <tr>\n",
       "      <th>0</th>\n",
       "      <td>2539329</td>\n",
       "      <td>1</td>\n",
       "      <td>1</td>\n",
       "      <td>2</td>\n",
       "      <td>8</td>\n",
       "      <td>NaN</td>\n",
       "      <td>196</td>\n",
       "      <td>1</td>\n",
       "      <td>0</td>\n",
       "      <td>Soda</td>\n",
       "      <td>...</td>\n",
       "      <td>20.5</td>\n",
       "      <td>Non-frequent customer</td>\n",
       "      <td>Alabama</td>\n",
       "      <td>31</td>\n",
       "      <td>2/17/2019</td>\n",
       "      <td>3</td>\n",
       "      <td>married</td>\n",
       "      <td>40423</td>\n",
       "      <td>South</td>\n",
       "      <td>good orders</td>\n",
       "    </tr>\n",
       "    <tr>\n",
       "      <th>1</th>\n",
       "      <td>2398795</td>\n",
       "      <td>1</td>\n",
       "      <td>2</td>\n",
       "      <td>3</td>\n",
       "      <td>7</td>\n",
       "      <td>15.0</td>\n",
       "      <td>196</td>\n",
       "      <td>1</td>\n",
       "      <td>1</td>\n",
       "      <td>Soda</td>\n",
       "      <td>...</td>\n",
       "      <td>20.5</td>\n",
       "      <td>Non-frequent customer</td>\n",
       "      <td>Alabama</td>\n",
       "      <td>31</td>\n",
       "      <td>2/17/2019</td>\n",
       "      <td>3</td>\n",
       "      <td>married</td>\n",
       "      <td>40423</td>\n",
       "      <td>South</td>\n",
       "      <td>good orders</td>\n",
       "    </tr>\n",
       "    <tr>\n",
       "      <th>2</th>\n",
       "      <td>473747</td>\n",
       "      <td>1</td>\n",
       "      <td>3</td>\n",
       "      <td>3</td>\n",
       "      <td>12</td>\n",
       "      <td>21.0</td>\n",
       "      <td>196</td>\n",
       "      <td>1</td>\n",
       "      <td>1</td>\n",
       "      <td>Soda</td>\n",
       "      <td>...</td>\n",
       "      <td>20.5</td>\n",
       "      <td>Non-frequent customer</td>\n",
       "      <td>Alabama</td>\n",
       "      <td>31</td>\n",
       "      <td>2/17/2019</td>\n",
       "      <td>3</td>\n",
       "      <td>married</td>\n",
       "      <td>40423</td>\n",
       "      <td>South</td>\n",
       "      <td>good orders</td>\n",
       "    </tr>\n",
       "    <tr>\n",
       "      <th>3</th>\n",
       "      <td>2254736</td>\n",
       "      <td>1</td>\n",
       "      <td>4</td>\n",
       "      <td>4</td>\n",
       "      <td>7</td>\n",
       "      <td>29.0</td>\n",
       "      <td>196</td>\n",
       "      <td>1</td>\n",
       "      <td>1</td>\n",
       "      <td>Soda</td>\n",
       "      <td>...</td>\n",
       "      <td>20.5</td>\n",
       "      <td>Non-frequent customer</td>\n",
       "      <td>Alabama</td>\n",
       "      <td>31</td>\n",
       "      <td>2/17/2019</td>\n",
       "      <td>3</td>\n",
       "      <td>married</td>\n",
       "      <td>40423</td>\n",
       "      <td>South</td>\n",
       "      <td>good orders</td>\n",
       "    </tr>\n",
       "    <tr>\n",
       "      <th>4</th>\n",
       "      <td>431534</td>\n",
       "      <td>1</td>\n",
       "      <td>5</td>\n",
       "      <td>4</td>\n",
       "      <td>15</td>\n",
       "      <td>28.0</td>\n",
       "      <td>196</td>\n",
       "      <td>1</td>\n",
       "      <td>1</td>\n",
       "      <td>Soda</td>\n",
       "      <td>...</td>\n",
       "      <td>20.5</td>\n",
       "      <td>Non-frequent customer</td>\n",
       "      <td>Alabama</td>\n",
       "      <td>31</td>\n",
       "      <td>2/17/2019</td>\n",
       "      <td>3</td>\n",
       "      <td>married</td>\n",
       "      <td>40423</td>\n",
       "      <td>South</td>\n",
       "      <td>good orders</td>\n",
       "    </tr>\n",
       "  </tbody>\n",
       "</table>\n",
       "<p>5 rows × 29 columns</p>\n",
       "</div>"
      ],
      "text/plain": [
       "   order_id  user_id  order_number  orders_day_of_week  time_of_order  \\\n",
       "0   2539329        1             1                   2              8   \n",
       "1   2398795        1             2                   3              7   \n",
       "2    473747        1             3                   3             12   \n",
       "3   2254736        1             4                   4              7   \n",
       "4    431534        1             5                   4             15   \n",
       "\n",
       "   days_since_prior_order  product_id  add_to_cart_order  reordered  \\\n",
       "0                     NaN         196                  1          0   \n",
       "1                    15.0         196                  1          1   \n",
       "2                    21.0         196                  1          1   \n",
       "3                    29.0         196                  1          1   \n",
       "4                    28.0         196                  1          1   \n",
       "\n",
       "  product_name  ...  Order_frequency         Frequency_flag    STATE Age  \\\n",
       "0         Soda  ...             20.5  Non-frequent customer  Alabama  31   \n",
       "1         Soda  ...             20.5  Non-frequent customer  Alabama  31   \n",
       "2         Soda  ...             20.5  Non-frequent customer  Alabama  31   \n",
       "3         Soda  ...             20.5  Non-frequent customer  Alabama  31   \n",
       "4         Soda  ...             20.5  Non-frequent customer  Alabama  31   \n",
       "\n",
       "  date_joined  n_dependants fam_status  income Region  low_orders_flag  \n",
       "0   2/17/2019             3    married   40423  South      good orders  \n",
       "1   2/17/2019             3    married   40423  South      good orders  \n",
       "2   2/17/2019             3    married   40423  South      good orders  \n",
       "3   2/17/2019             3    married   40423  South      good orders  \n",
       "4   2/17/2019             3    married   40423  South      good orders  \n",
       "\n",
       "[5 rows x 29 columns]"
      ]
     },
     "execution_count": 94,
     "metadata": {},
     "output_type": "execute_result"
    }
   ],
   "source": [
    "df.head(5)"
   ]
  },
  {
   "cell_type": "code",
   "execution_count": 95,
   "id": "1b9e14fc",
   "metadata": {},
   "outputs": [],
   "source": [
    "# Creating low orders structure\n",
    "low_orders = df[df['low_orders_flag'] == 'low orders']"
   ]
  },
  {
   "cell_type": "code",
   "execution_count": 97,
   "id": "1ed5bd0f",
   "metadata": {},
   "outputs": [
    {
     "data": {
      "text/plain": [
       "good orders    30964564\n",
       "low orders      1440295\n",
       "Name: low_orders_flag, dtype: int64"
      ]
     },
     "execution_count": 97,
     "metadata": {},
     "output_type": "execute_result"
    }
   ],
   "source": [
    "# Checking value count of low orders flag and shape\n",
    "df['low_orders_flag'].value_counts()"
   ]
  },
  {
   "cell_type": "code",
   "execution_count": 99,
   "id": "db37eed7",
   "metadata": {},
   "outputs": [
    {
     "data": {
      "text/plain": [
       "(32404859, 29)"
      ]
     },
     "execution_count": 99,
     "metadata": {},
     "output_type": "execute_result"
    }
   ],
   "source": [
    "df.shape"
   ]
  },
  {
   "cell_type": "code",
   "execution_count": 102,
   "id": "8fbcdc41",
   "metadata": {},
   "outputs": [],
   "source": [
    "# Dropping low orders per CFO request\n",
    "df.drop(df[df['low_orders_flag'] == 'low orders'].index, inplace = True)"
   ]
  },
  {
   "cell_type": "code",
   "execution_count": 103,
   "id": "6d4c9143",
   "metadata": {},
   "outputs": [
    {
     "data": {
      "text/plain": [
       "(30964564, 29)"
      ]
     },
     "execution_count": 103,
     "metadata": {},
     "output_type": "execute_result"
    }
   ],
   "source": [
    "# Verifying low orders removed\n",
    "df.shape"
   ]
  },
  {
   "cell_type": "code",
   "execution_count": 104,
   "id": "b612f266",
   "metadata": {},
   "outputs": [],
   "source": [
    "# Exporting df w/o low orders to prepared data\n",
    "df.to_pickle(r'C:\\Users\\steph\\OneDrive\\Documents\\May 2022 Instacart Basket Analysis\\02 Data\\Prepared Data\\low_orders_removed.pkl')"
   ]
  },
  {
   "cell_type": "code",
   "execution_count": 115,
   "id": "91310cda",
   "metadata": {},
   "outputs": [
    {
     "data": {
      "text/html": [
       "<div>\n",
       "<style scoped>\n",
       "    .dataframe tbody tr th:only-of-type {\n",
       "        vertical-align: middle;\n",
       "    }\n",
       "\n",
       "    .dataframe tbody tr th {\n",
       "        vertical-align: top;\n",
       "    }\n",
       "\n",
       "    .dataframe thead th {\n",
       "        text-align: right;\n",
       "    }\n",
       "</style>\n",
       "<table border=\"1\" class=\"dataframe\">\n",
       "  <thead>\n",
       "    <tr style=\"text-align: right;\">\n",
       "      <th></th>\n",
       "      <th>order_id</th>\n",
       "      <th>user_id</th>\n",
       "      <th>order_number</th>\n",
       "      <th>orders_day_of_week</th>\n",
       "      <th>time_of_order</th>\n",
       "      <th>days_since_prior_order</th>\n",
       "      <th>product_id</th>\n",
       "      <th>add_to_cart_order</th>\n",
       "      <th>reordered</th>\n",
       "      <th>aisle_id</th>\n",
       "      <th>department_id</th>\n",
       "      <th>prices</th>\n",
       "      <th>max_order</th>\n",
       "      <th>Spending</th>\n",
       "      <th>Order_frequency</th>\n",
       "      <th>Age</th>\n",
       "      <th>n_dependants</th>\n",
       "      <th>income</th>\n",
       "    </tr>\n",
       "  </thead>\n",
       "  <tbody>\n",
       "    <tr>\n",
       "      <th>count</th>\n",
       "      <td>3.096456e+07</td>\n",
       "      <td>3.096456e+07</td>\n",
       "      <td>3.096456e+07</td>\n",
       "      <td>3.096456e+07</td>\n",
       "      <td>3.096456e+07</td>\n",
       "      <td>2.930328e+07</td>\n",
       "      <td>3.096456e+07</td>\n",
       "      <td>3.096456e+07</td>\n",
       "      <td>3.096456e+07</td>\n",
       "      <td>3.096456e+07</td>\n",
       "      <td>3.096456e+07</td>\n",
       "      <td>3.096456e+07</td>\n",
       "      <td>3.096456e+07</td>\n",
       "      <td>3.096456e+07</td>\n",
       "      <td>3.096456e+07</td>\n",
       "      <td>3.096456e+07</td>\n",
       "      <td>3.096456e+07</td>\n",
       "      <td>3.096456e+07</td>\n",
       "    </tr>\n",
       "    <tr>\n",
       "      <th>mean</th>\n",
       "      <td>1.710317e+06</td>\n",
       "      <td>1.029284e+05</td>\n",
       "      <td>1.783414e+01</td>\n",
       "      <td>2.741397e+00</td>\n",
       "      <td>1.341098e+01</td>\n",
       "      <td>1.003218e+01</td>\n",
       "      <td>2.559850e+04</td>\n",
       "      <td>8.363038e+00</td>\n",
       "      <td>6.061019e-01</td>\n",
       "      <td>7.118859e+01</td>\n",
       "      <td>9.922365e+00</td>\n",
       "      <td>1.149177e+01</td>\n",
       "      <td>3.442569e+01</td>\n",
       "      <td>1.021500e+01</td>\n",
       "      <td>8.981217e+00</td>\n",
       "      <td>4.946803e+01</td>\n",
       "      <td>1.501819e+00</td>\n",
       "      <td>9.967587e+04</td>\n",
       "    </tr>\n",
       "    <tr>\n",
       "      <th>std</th>\n",
       "      <td>9.873785e+05</td>\n",
       "      <td>5.947061e+04</td>\n",
       "      <td>1.763442e+01</td>\n",
       "      <td>2.089254e+00</td>\n",
       "      <td>4.248845e+00</td>\n",
       "      <td>8.356732e+00</td>\n",
       "      <td>1.408096e+04</td>\n",
       "      <td>7.135399e+00</td>\n",
       "      <td>4.886127e-01</td>\n",
       "      <td>3.822194e+01</td>\n",
       "      <td>6.282441e+00</td>\n",
       "      <td>4.913481e+02</td>\n",
       "      <td>2.489504e+01</td>\n",
       "      <td>7.988674e+01</td>\n",
       "      <td>6.507568e+00</td>\n",
       "      <td>1.848528e+01</td>\n",
       "      <td>1.118896e+00</td>\n",
       "      <td>4.314187e+04</td>\n",
       "    </tr>\n",
       "    <tr>\n",
       "      <th>min</th>\n",
       "      <td>2.000000e+00</td>\n",
       "      <td>1.000000e+00</td>\n",
       "      <td>1.000000e+00</td>\n",
       "      <td>0.000000e+00</td>\n",
       "      <td>0.000000e+00</td>\n",
       "      <td>0.000000e+00</td>\n",
       "      <td>1.000000e+00</td>\n",
       "      <td>1.000000e+00</td>\n",
       "      <td>0.000000e+00</td>\n",
       "      <td>1.000000e+00</td>\n",
       "      <td>1.000000e+00</td>\n",
       "      <td>1.000000e+00</td>\n",
       "      <td>5.000000e+00</td>\n",
       "      <td>1.000000e+00</td>\n",
       "      <td>0.000000e+00</td>\n",
       "      <td>1.800000e+01</td>\n",
       "      <td>0.000000e+00</td>\n",
       "      <td>2.590300e+04</td>\n",
       "    </tr>\n",
       "    <tr>\n",
       "      <th>25%</th>\n",
       "      <td>8.554120e+05</td>\n",
       "      <td>5.140900e+04</td>\n",
       "      <td>5.000000e+00</td>\n",
       "      <td>1.000000e+00</td>\n",
       "      <td>1.000000e+01</td>\n",
       "      <td>5.000000e+00</td>\n",
       "      <td>1.354400e+04</td>\n",
       "      <td>3.000000e+00</td>\n",
       "      <td>0.000000e+00</td>\n",
       "      <td>3.100000e+01</td>\n",
       "      <td>4.000000e+00</td>\n",
       "      <td>4.000000e+00</td>\n",
       "      <td>1.400000e+01</td>\n",
       "      <td>7.392889e+00</td>\n",
       "      <td>6.000000e+00</td>\n",
       "      <td>3.300000e+01</td>\n",
       "      <td>1.000000e+00</td>\n",
       "      <td>6.729200e+04</td>\n",
       "    </tr>\n",
       "    <tr>\n",
       "      <th>50%</th>\n",
       "      <td>1.710404e+06</td>\n",
       "      <td>1.025860e+05</td>\n",
       "      <td>1.200000e+01</td>\n",
       "      <td>3.000000e+00</td>\n",
       "      <td>1.300000e+01</td>\n",
       "      <td>7.000000e+00</td>\n",
       "      <td>2.528800e+04</td>\n",
       "      <td>6.000000e+00</td>\n",
       "      <td>1.000000e+00</td>\n",
       "      <td>8.300000e+01</td>\n",
       "      <td>9.000000e+00</td>\n",
       "      <td>7.000000e+00</td>\n",
       "      <td>2.800000e+01</td>\n",
       "      <td>7.825143e+00</td>\n",
       "      <td>7.000000e+00</td>\n",
       "      <td>4.900000e+01</td>\n",
       "      <td>2.000000e+00</td>\n",
       "      <td>9.676500e+04</td>\n",
       "    </tr>\n",
       "    <tr>\n",
       "      <th>75%</th>\n",
       "      <td>2.565206e+06</td>\n",
       "      <td>1.543870e+05</td>\n",
       "      <td>2.500000e+01</td>\n",
       "      <td>5.000000e+00</td>\n",
       "      <td>1.600000e+01</td>\n",
       "      <td>1.400000e+01</td>\n",
       "      <td>3.794700e+04</td>\n",
       "      <td>1.100000e+01</td>\n",
       "      <td>1.000000e+00</td>\n",
       "      <td>1.070000e+02</td>\n",
       "      <td>1.600000e+01</td>\n",
       "      <td>1.100000e+01</td>\n",
       "      <td>4.800000e+01</td>\n",
       "      <td>8.249597e+00</td>\n",
       "      <td>1.250000e+01</td>\n",
       "      <td>6.500000e+01</td>\n",
       "      <td>3.000000e+00</td>\n",
       "      <td>1.281020e+05</td>\n",
       "    </tr>\n",
       "    <tr>\n",
       "      <th>max</th>\n",
       "      <td>3.421083e+06</td>\n",
       "      <td>2.062090e+05</td>\n",
       "      <td>9.900000e+01</td>\n",
       "      <td>6.000000e+00</td>\n",
       "      <td>2.300000e+01</td>\n",
       "      <td>3.000000e+01</td>\n",
       "      <td>4.968800e+04</td>\n",
       "      <td>1.450000e+02</td>\n",
       "      <td>1.000000e+00</td>\n",
       "      <td>1.340000e+02</td>\n",
       "      <td>2.100000e+01</td>\n",
       "      <td>9.999900e+04</td>\n",
       "      <td>9.900000e+01</td>\n",
       "      <td>1.500694e+04</td>\n",
       "      <td>3.000000e+01</td>\n",
       "      <td>8.100000e+01</td>\n",
       "      <td>3.000000e+00</td>\n",
       "      <td>5.939010e+05</td>\n",
       "    </tr>\n",
       "  </tbody>\n",
       "</table>\n",
       "</div>"
      ],
      "text/plain": [
       "           order_id       user_id  order_number  orders_day_of_week  \\\n",
       "count  3.096456e+07  3.096456e+07  3.096456e+07        3.096456e+07   \n",
       "mean   1.710317e+06  1.029284e+05  1.783414e+01        2.741397e+00   \n",
       "std    9.873785e+05  5.947061e+04  1.763442e+01        2.089254e+00   \n",
       "min    2.000000e+00  1.000000e+00  1.000000e+00        0.000000e+00   \n",
       "25%    8.554120e+05  5.140900e+04  5.000000e+00        1.000000e+00   \n",
       "50%    1.710404e+06  1.025860e+05  1.200000e+01        3.000000e+00   \n",
       "75%    2.565206e+06  1.543870e+05  2.500000e+01        5.000000e+00   \n",
       "max    3.421083e+06  2.062090e+05  9.900000e+01        6.000000e+00   \n",
       "\n",
       "       time_of_order  days_since_prior_order    product_id  add_to_cart_order  \\\n",
       "count   3.096456e+07            2.930328e+07  3.096456e+07       3.096456e+07   \n",
       "mean    1.341098e+01            1.003218e+01  2.559850e+04       8.363038e+00   \n",
       "std     4.248845e+00            8.356732e+00  1.408096e+04       7.135399e+00   \n",
       "min     0.000000e+00            0.000000e+00  1.000000e+00       1.000000e+00   \n",
       "25%     1.000000e+01            5.000000e+00  1.354400e+04       3.000000e+00   \n",
       "50%     1.300000e+01            7.000000e+00  2.528800e+04       6.000000e+00   \n",
       "75%     1.600000e+01            1.400000e+01  3.794700e+04       1.100000e+01   \n",
       "max     2.300000e+01            3.000000e+01  4.968800e+04       1.450000e+02   \n",
       "\n",
       "          reordered      aisle_id  department_id        prices     max_order  \\\n",
       "count  3.096456e+07  3.096456e+07   3.096456e+07  3.096456e+07  3.096456e+07   \n",
       "mean   6.061019e-01  7.118859e+01   9.922365e+00  1.149177e+01  3.442569e+01   \n",
       "std    4.886127e-01  3.822194e+01   6.282441e+00  4.913481e+02  2.489504e+01   \n",
       "min    0.000000e+00  1.000000e+00   1.000000e+00  1.000000e+00  5.000000e+00   \n",
       "25%    0.000000e+00  3.100000e+01   4.000000e+00  4.000000e+00  1.400000e+01   \n",
       "50%    1.000000e+00  8.300000e+01   9.000000e+00  7.000000e+00  2.800000e+01   \n",
       "75%    1.000000e+00  1.070000e+02   1.600000e+01  1.100000e+01  4.800000e+01   \n",
       "max    1.000000e+00  1.340000e+02   2.100000e+01  9.999900e+04  9.900000e+01   \n",
       "\n",
       "           Spending  Order_frequency           Age  n_dependants        income  \n",
       "count  3.096456e+07     3.096456e+07  3.096456e+07  3.096456e+07  3.096456e+07  \n",
       "mean   1.021500e+01     8.981217e+00  4.946803e+01  1.501819e+00  9.967587e+04  \n",
       "std    7.988674e+01     6.507568e+00  1.848528e+01  1.118896e+00  4.314187e+04  \n",
       "min    1.000000e+00     0.000000e+00  1.800000e+01  0.000000e+00  2.590300e+04  \n",
       "25%    7.392889e+00     6.000000e+00  3.300000e+01  1.000000e+00  6.729200e+04  \n",
       "50%    7.825143e+00     7.000000e+00  4.900000e+01  2.000000e+00  9.676500e+04  \n",
       "75%    8.249597e+00     1.250000e+01  6.500000e+01  3.000000e+00  1.281020e+05  \n",
       "max    1.500694e+04     3.000000e+01  8.100000e+01  3.000000e+00  5.939010e+05  "
      ]
     },
     "execution_count": 115,
     "metadata": {},
     "output_type": "execute_result"
    }
   ],
   "source": [
    "# Checking data for profiling parameters\n",
    "df.describe()"
   ]
  },
  {
   "cell_type": "code",
   "execution_count": 118,
   "id": "6341a7c0",
   "metadata": {},
   "outputs": [
    {
     "data": {
      "text/plain": [
       "79    508337\n",
       "49    507879\n",
       "48    506730\n",
       "31    506218\n",
       "64    504832\n",
       "       ...  \n",
       "60    461897\n",
       "36    460649\n",
       "66    454604\n",
       "41    451269\n",
       "25    449324\n",
       "Name: Age, Length: 64, dtype: int64"
      ]
     },
     "execution_count": 118,
     "metadata": {},
     "output_type": "execute_result"
    }
   ],
   "source": [
    "df['Age'].value_counts(dropna = False)"
   ]
  },
  {
   "cell_type": "code",
   "execution_count": 119,
   "id": "6fe3a27a",
   "metadata": {},
   "outputs": [
    {
     "data": {
      "text/plain": [
       "72344     4395\n",
       "112610    4242\n",
       "57501     4136\n",
       "115620    3831\n",
       "36163     3657\n",
       "          ... \n",
       "47901        5\n",
       "90002        5\n",
       "33040        5\n",
       "35538        5\n",
       "147660       2\n",
       "Name: income, Length: 96069, dtype: int64"
      ]
     },
     "execution_count": 119,
     "metadata": {},
     "output_type": "execute_result"
    }
   ],
   "source": [
    "df['income'].value_counts(dropna = False)"
   ]
  },
  {
   "cell_type": "code",
   "execution_count": 120,
   "id": "ed787ec4",
   "metadata": {},
   "outputs": [
    {
     "data": {
      "text/plain": [
       "4     9079273\n",
       "16    5177182\n",
       "19    2766406\n",
       "7     2571901\n",
       "1     2121731\n",
       "13    1782705\n",
       "3     1120828\n",
       "15    1012074\n",
       "20    1003834\n",
       "9      822136\n",
       "17     699857\n",
       "12     674781\n",
       "14     670850\n",
       "11     424306\n",
       "18     410392\n",
       "6      255991\n",
       "5      144627\n",
       "8       93060\n",
       "21      64768\n",
       "2       34411\n",
       "10      33451\n",
       "Name: department_id, dtype: int64"
      ]
     },
     "execution_count": 120,
     "metadata": {},
     "output_type": "execute_result"
    }
   ],
   "source": [
    "df['department_id'].value_counts(dropna = False)"
   ]
  },
  {
   "cell_type": "code",
   "execution_count": 121,
   "id": "9cf44674",
   "metadata": {},
   "outputs": [
    {
     "data": {
      "text/plain": [
       "3    7772516\n",
       "0    7739681\n",
       "2    7733261\n",
       "1    7719106\n",
       "Name: n_dependants, dtype: int64"
      ]
     },
     "execution_count": 121,
     "metadata": {},
     "output_type": "execute_result"
    }
   ],
   "source": [
    "df['n_dependants'].value_counts(dropna = False)"
   ]
  },
  {
   "cell_type": "code",
   "execution_count": 123,
   "id": "977c0e6f",
   "metadata": {},
   "outputs": [
    {
     "data": {
      "text/plain": [
       "0    5908610\n",
       "1    5411686\n",
       "6    4291304\n",
       "5    4033729\n",
       "2    4024706\n",
       "3    3669535\n",
       "4    3624994\n",
       "Name: orders_day_of_week, dtype: int64"
      ]
     },
     "execution_count": 123,
     "metadata": {},
     "output_type": "execute_result"
    }
   ],
   "source": [
    "df['orders_day_of_week'].value_counts(dropna = False)"
   ]
  },
  {
   "cell_type": "code",
   "execution_count": 125,
   "id": "29d4cb7e",
   "metadata": {},
   "outputs": [
    {
     "data": {
      "text/plain": [
       "10    2649744\n",
       "11    2614880\n",
       "14    2567903\n",
       "13    2539276\n",
       "15    2535966\n",
       "12    2495795\n",
       "16    2413681\n",
       "9     2363611\n",
       "17    1982345\n",
       "8     1659110\n",
       "18    1551184\n",
       "19    1193878\n",
       "20     930909\n",
       "7      863213\n",
       "21     763111\n",
       "22     607060\n",
       "23     384554\n",
       "6      281013\n",
       "0      208042\n",
       "1      109621\n",
       "5       84418\n",
       "2       65691\n",
       "4       50763\n",
       "3       48796\n",
       "Name: time_of_order, dtype: int64"
      ]
     },
     "execution_count": 125,
     "metadata": {},
     "output_type": "execute_result"
    }
   ],
   "source": [
    "df['time_of_order'].value_counts(dropna = False)"
   ]
  },
  {
   "cell_type": "code",
   "execution_count": 126,
   "id": "b84ecbc5",
   "metadata": {},
   "outputs": [],
   "source": [
    "# Creating profile parameters\n",
    "df.loc[df['Age'] < 35, 'age_group'] = 'Young Adult'"
   ]
  },
  {
   "cell_type": "code",
   "execution_count": 127,
   "id": "3378b132",
   "metadata": {},
   "outputs": [],
   "source": [
    "df.loc[(df['Age'] > 35) & (df['Age'] < 60), 'age_group'] = 'Adult'"
   ]
  },
  {
   "cell_type": "code",
   "execution_count": 128,
   "id": "29a138c4",
   "metadata": {},
   "outputs": [],
   "source": [
    "df.loc[df['Age'] > 60, 'age_group'] = 'Mature Adult'"
   ]
  },
  {
   "cell_type": "code",
   "execution_count": 129,
   "id": "ef066d53",
   "metadata": {},
   "outputs": [
    {
     "data": {
      "text/html": [
       "<div>\n",
       "<style scoped>\n",
       "    .dataframe tbody tr th:only-of-type {\n",
       "        vertical-align: middle;\n",
       "    }\n",
       "\n",
       "    .dataframe tbody tr th {\n",
       "        vertical-align: top;\n",
       "    }\n",
       "\n",
       "    .dataframe thead th {\n",
       "        text-align: right;\n",
       "    }\n",
       "</style>\n",
       "<table border=\"1\" class=\"dataframe\">\n",
       "  <thead>\n",
       "    <tr style=\"text-align: right;\">\n",
       "      <th></th>\n",
       "      <th>order_id</th>\n",
       "      <th>user_id</th>\n",
       "      <th>order_number</th>\n",
       "      <th>orders_day_of_week</th>\n",
       "      <th>time_of_order</th>\n",
       "      <th>days_since_prior_order</th>\n",
       "      <th>product_id</th>\n",
       "      <th>add_to_cart_order</th>\n",
       "      <th>reordered</th>\n",
       "      <th>product_name</th>\n",
       "      <th>...</th>\n",
       "      <th>Frequency_flag</th>\n",
       "      <th>STATE</th>\n",
       "      <th>Age</th>\n",
       "      <th>date_joined</th>\n",
       "      <th>n_dependants</th>\n",
       "      <th>fam_status</th>\n",
       "      <th>income</th>\n",
       "      <th>Region</th>\n",
       "      <th>low_orders_flag</th>\n",
       "      <th>age_group</th>\n",
       "    </tr>\n",
       "  </thead>\n",
       "  <tbody>\n",
       "    <tr>\n",
       "      <th>0</th>\n",
       "      <td>2539329</td>\n",
       "      <td>1</td>\n",
       "      <td>1</td>\n",
       "      <td>2</td>\n",
       "      <td>8</td>\n",
       "      <td>NaN</td>\n",
       "      <td>196</td>\n",
       "      <td>1</td>\n",
       "      <td>0</td>\n",
       "      <td>Soda</td>\n",
       "      <td>...</td>\n",
       "      <td>Non-frequent customer</td>\n",
       "      <td>Alabama</td>\n",
       "      <td>31</td>\n",
       "      <td>2/17/2019</td>\n",
       "      <td>3</td>\n",
       "      <td>married</td>\n",
       "      <td>40423</td>\n",
       "      <td>South</td>\n",
       "      <td>good orders</td>\n",
       "      <td>Young Adult</td>\n",
       "    </tr>\n",
       "    <tr>\n",
       "      <th>1</th>\n",
       "      <td>2398795</td>\n",
       "      <td>1</td>\n",
       "      <td>2</td>\n",
       "      <td>3</td>\n",
       "      <td>7</td>\n",
       "      <td>15.0</td>\n",
       "      <td>196</td>\n",
       "      <td>1</td>\n",
       "      <td>1</td>\n",
       "      <td>Soda</td>\n",
       "      <td>...</td>\n",
       "      <td>Non-frequent customer</td>\n",
       "      <td>Alabama</td>\n",
       "      <td>31</td>\n",
       "      <td>2/17/2019</td>\n",
       "      <td>3</td>\n",
       "      <td>married</td>\n",
       "      <td>40423</td>\n",
       "      <td>South</td>\n",
       "      <td>good orders</td>\n",
       "      <td>Young Adult</td>\n",
       "    </tr>\n",
       "    <tr>\n",
       "      <th>2</th>\n",
       "      <td>473747</td>\n",
       "      <td>1</td>\n",
       "      <td>3</td>\n",
       "      <td>3</td>\n",
       "      <td>12</td>\n",
       "      <td>21.0</td>\n",
       "      <td>196</td>\n",
       "      <td>1</td>\n",
       "      <td>1</td>\n",
       "      <td>Soda</td>\n",
       "      <td>...</td>\n",
       "      <td>Non-frequent customer</td>\n",
       "      <td>Alabama</td>\n",
       "      <td>31</td>\n",
       "      <td>2/17/2019</td>\n",
       "      <td>3</td>\n",
       "      <td>married</td>\n",
       "      <td>40423</td>\n",
       "      <td>South</td>\n",
       "      <td>good orders</td>\n",
       "      <td>Young Adult</td>\n",
       "    </tr>\n",
       "    <tr>\n",
       "      <th>3</th>\n",
       "      <td>2254736</td>\n",
       "      <td>1</td>\n",
       "      <td>4</td>\n",
       "      <td>4</td>\n",
       "      <td>7</td>\n",
       "      <td>29.0</td>\n",
       "      <td>196</td>\n",
       "      <td>1</td>\n",
       "      <td>1</td>\n",
       "      <td>Soda</td>\n",
       "      <td>...</td>\n",
       "      <td>Non-frequent customer</td>\n",
       "      <td>Alabama</td>\n",
       "      <td>31</td>\n",
       "      <td>2/17/2019</td>\n",
       "      <td>3</td>\n",
       "      <td>married</td>\n",
       "      <td>40423</td>\n",
       "      <td>South</td>\n",
       "      <td>good orders</td>\n",
       "      <td>Young Adult</td>\n",
       "    </tr>\n",
       "    <tr>\n",
       "      <th>4</th>\n",
       "      <td>431534</td>\n",
       "      <td>1</td>\n",
       "      <td>5</td>\n",
       "      <td>4</td>\n",
       "      <td>15</td>\n",
       "      <td>28.0</td>\n",
       "      <td>196</td>\n",
       "      <td>1</td>\n",
       "      <td>1</td>\n",
       "      <td>Soda</td>\n",
       "      <td>...</td>\n",
       "      <td>Non-frequent customer</td>\n",
       "      <td>Alabama</td>\n",
       "      <td>31</td>\n",
       "      <td>2/17/2019</td>\n",
       "      <td>3</td>\n",
       "      <td>married</td>\n",
       "      <td>40423</td>\n",
       "      <td>South</td>\n",
       "      <td>good orders</td>\n",
       "      <td>Young Adult</td>\n",
       "    </tr>\n",
       "  </tbody>\n",
       "</table>\n",
       "<p>5 rows × 30 columns</p>\n",
       "</div>"
      ],
      "text/plain": [
       "   order_id  user_id  order_number  orders_day_of_week  time_of_order  \\\n",
       "0   2539329        1             1                   2              8   \n",
       "1   2398795        1             2                   3              7   \n",
       "2    473747        1             3                   3             12   \n",
       "3   2254736        1             4                   4              7   \n",
       "4    431534        1             5                   4             15   \n",
       "\n",
       "   days_since_prior_order  product_id  add_to_cart_order  reordered  \\\n",
       "0                     NaN         196                  1          0   \n",
       "1                    15.0         196                  1          1   \n",
       "2                    21.0         196                  1          1   \n",
       "3                    29.0         196                  1          1   \n",
       "4                    28.0         196                  1          1   \n",
       "\n",
       "  product_name  ...         Frequency_flag    STATE  Age date_joined  \\\n",
       "0         Soda  ...  Non-frequent customer  Alabama   31   2/17/2019   \n",
       "1         Soda  ...  Non-frequent customer  Alabama   31   2/17/2019   \n",
       "2         Soda  ...  Non-frequent customer  Alabama   31   2/17/2019   \n",
       "3         Soda  ...  Non-frequent customer  Alabama   31   2/17/2019   \n",
       "4         Soda  ...  Non-frequent customer  Alabama   31   2/17/2019   \n",
       "\n",
       "  n_dependants  fam_status income  Region low_orders_flag    age_group  \n",
       "0            3     married  40423   South     good orders  Young Adult  \n",
       "1            3     married  40423   South     good orders  Young Adult  \n",
       "2            3     married  40423   South     good orders  Young Adult  \n",
       "3            3     married  40423   South     good orders  Young Adult  \n",
       "4            3     married  40423   South     good orders  Young Adult  \n",
       "\n",
       "[5 rows x 30 columns]"
      ]
     },
     "execution_count": 129,
     "metadata": {},
     "output_type": "execute_result"
    }
   ],
   "source": [
    "# Checking new age group column\n",
    "df.head(5)"
   ]
  },
  {
   "cell_type": "code",
   "execution_count": 130,
   "id": "8203675c",
   "metadata": {},
   "outputs": [],
   "source": [
    "# Creating profile parameters\n",
    "df.loc[df['income'] < 50000, 'income_group'] = 'Lower Income'"
   ]
  },
  {
   "cell_type": "code",
   "execution_count": 131,
   "id": "90ee6b1b",
   "metadata": {},
   "outputs": [],
   "source": [
    "df.loc[(df['income'] > 50000) & (df['income'] < 75000), 'income_group'] = 'Mid Income'"
   ]
  },
  {
   "cell_type": "code",
   "execution_count": 132,
   "id": "1ae445ce",
   "metadata": {},
   "outputs": [],
   "source": [
    "df.loc[df['income'] > 75000, 'income_group'] = 'Higher Income'"
   ]
  },
  {
   "cell_type": "code",
   "execution_count": 133,
   "id": "a717f4b3",
   "metadata": {},
   "outputs": [
    {
     "data": {
      "text/html": [
       "<div>\n",
       "<style scoped>\n",
       "    .dataframe tbody tr th:only-of-type {\n",
       "        vertical-align: middle;\n",
       "    }\n",
       "\n",
       "    .dataframe tbody tr th {\n",
       "        vertical-align: top;\n",
       "    }\n",
       "\n",
       "    .dataframe thead th {\n",
       "        text-align: right;\n",
       "    }\n",
       "</style>\n",
       "<table border=\"1\" class=\"dataframe\">\n",
       "  <thead>\n",
       "    <tr style=\"text-align: right;\">\n",
       "      <th></th>\n",
       "      <th>order_id</th>\n",
       "      <th>user_id</th>\n",
       "      <th>order_number</th>\n",
       "      <th>orders_day_of_week</th>\n",
       "      <th>time_of_order</th>\n",
       "      <th>days_since_prior_order</th>\n",
       "      <th>product_id</th>\n",
       "      <th>add_to_cart_order</th>\n",
       "      <th>reordered</th>\n",
       "      <th>product_name</th>\n",
       "      <th>...</th>\n",
       "      <th>STATE</th>\n",
       "      <th>Age</th>\n",
       "      <th>date_joined</th>\n",
       "      <th>n_dependants</th>\n",
       "      <th>fam_status</th>\n",
       "      <th>income</th>\n",
       "      <th>Region</th>\n",
       "      <th>low_orders_flag</th>\n",
       "      <th>age_group</th>\n",
       "      <th>income_group</th>\n",
       "    </tr>\n",
       "  </thead>\n",
       "  <tbody>\n",
       "    <tr>\n",
       "      <th>0</th>\n",
       "      <td>2539329</td>\n",
       "      <td>1</td>\n",
       "      <td>1</td>\n",
       "      <td>2</td>\n",
       "      <td>8</td>\n",
       "      <td>NaN</td>\n",
       "      <td>196</td>\n",
       "      <td>1</td>\n",
       "      <td>0</td>\n",
       "      <td>Soda</td>\n",
       "      <td>...</td>\n",
       "      <td>Alabama</td>\n",
       "      <td>31</td>\n",
       "      <td>2/17/2019</td>\n",
       "      <td>3</td>\n",
       "      <td>married</td>\n",
       "      <td>40423</td>\n",
       "      <td>South</td>\n",
       "      <td>good orders</td>\n",
       "      <td>Young Adult</td>\n",
       "      <td>Lower Income</td>\n",
       "    </tr>\n",
       "    <tr>\n",
       "      <th>1</th>\n",
       "      <td>2398795</td>\n",
       "      <td>1</td>\n",
       "      <td>2</td>\n",
       "      <td>3</td>\n",
       "      <td>7</td>\n",
       "      <td>15.0</td>\n",
       "      <td>196</td>\n",
       "      <td>1</td>\n",
       "      <td>1</td>\n",
       "      <td>Soda</td>\n",
       "      <td>...</td>\n",
       "      <td>Alabama</td>\n",
       "      <td>31</td>\n",
       "      <td>2/17/2019</td>\n",
       "      <td>3</td>\n",
       "      <td>married</td>\n",
       "      <td>40423</td>\n",
       "      <td>South</td>\n",
       "      <td>good orders</td>\n",
       "      <td>Young Adult</td>\n",
       "      <td>Lower Income</td>\n",
       "    </tr>\n",
       "    <tr>\n",
       "      <th>2</th>\n",
       "      <td>473747</td>\n",
       "      <td>1</td>\n",
       "      <td>3</td>\n",
       "      <td>3</td>\n",
       "      <td>12</td>\n",
       "      <td>21.0</td>\n",
       "      <td>196</td>\n",
       "      <td>1</td>\n",
       "      <td>1</td>\n",
       "      <td>Soda</td>\n",
       "      <td>...</td>\n",
       "      <td>Alabama</td>\n",
       "      <td>31</td>\n",
       "      <td>2/17/2019</td>\n",
       "      <td>3</td>\n",
       "      <td>married</td>\n",
       "      <td>40423</td>\n",
       "      <td>South</td>\n",
       "      <td>good orders</td>\n",
       "      <td>Young Adult</td>\n",
       "      <td>Lower Income</td>\n",
       "    </tr>\n",
       "    <tr>\n",
       "      <th>3</th>\n",
       "      <td>2254736</td>\n",
       "      <td>1</td>\n",
       "      <td>4</td>\n",
       "      <td>4</td>\n",
       "      <td>7</td>\n",
       "      <td>29.0</td>\n",
       "      <td>196</td>\n",
       "      <td>1</td>\n",
       "      <td>1</td>\n",
       "      <td>Soda</td>\n",
       "      <td>...</td>\n",
       "      <td>Alabama</td>\n",
       "      <td>31</td>\n",
       "      <td>2/17/2019</td>\n",
       "      <td>3</td>\n",
       "      <td>married</td>\n",
       "      <td>40423</td>\n",
       "      <td>South</td>\n",
       "      <td>good orders</td>\n",
       "      <td>Young Adult</td>\n",
       "      <td>Lower Income</td>\n",
       "    </tr>\n",
       "    <tr>\n",
       "      <th>4</th>\n",
       "      <td>431534</td>\n",
       "      <td>1</td>\n",
       "      <td>5</td>\n",
       "      <td>4</td>\n",
       "      <td>15</td>\n",
       "      <td>28.0</td>\n",
       "      <td>196</td>\n",
       "      <td>1</td>\n",
       "      <td>1</td>\n",
       "      <td>Soda</td>\n",
       "      <td>...</td>\n",
       "      <td>Alabama</td>\n",
       "      <td>31</td>\n",
       "      <td>2/17/2019</td>\n",
       "      <td>3</td>\n",
       "      <td>married</td>\n",
       "      <td>40423</td>\n",
       "      <td>South</td>\n",
       "      <td>good orders</td>\n",
       "      <td>Young Adult</td>\n",
       "      <td>Lower Income</td>\n",
       "    </tr>\n",
       "  </tbody>\n",
       "</table>\n",
       "<p>5 rows × 31 columns</p>\n",
       "</div>"
      ],
      "text/plain": [
       "   order_id  user_id  order_number  orders_day_of_week  time_of_order  \\\n",
       "0   2539329        1             1                   2              8   \n",
       "1   2398795        1             2                   3              7   \n",
       "2    473747        1             3                   3             12   \n",
       "3   2254736        1             4                   4              7   \n",
       "4    431534        1             5                   4             15   \n",
       "\n",
       "   days_since_prior_order  product_id  add_to_cart_order  reordered  \\\n",
       "0                     NaN         196                  1          0   \n",
       "1                    15.0         196                  1          1   \n",
       "2                    21.0         196                  1          1   \n",
       "3                    29.0         196                  1          1   \n",
       "4                    28.0         196                  1          1   \n",
       "\n",
       "  product_name  ...    STATE  Age  date_joined n_dependants fam_status  \\\n",
       "0         Soda  ...  Alabama   31    2/17/2019            3    married   \n",
       "1         Soda  ...  Alabama   31    2/17/2019            3    married   \n",
       "2         Soda  ...  Alabama   31    2/17/2019            3    married   \n",
       "3         Soda  ...  Alabama   31    2/17/2019            3    married   \n",
       "4         Soda  ...  Alabama   31    2/17/2019            3    married   \n",
       "\n",
       "   income Region  low_orders_flag    age_group  income_group  \n",
       "0   40423  South      good orders  Young Adult  Lower Income  \n",
       "1   40423  South      good orders  Young Adult  Lower Income  \n",
       "2   40423  South      good orders  Young Adult  Lower Income  \n",
       "3   40423  South      good orders  Young Adult  Lower Income  \n",
       "4   40423  South      good orders  Young Adult  Lower Income  \n",
       "\n",
       "[5 rows x 31 columns]"
      ]
     },
     "execution_count": 133,
     "metadata": {},
     "output_type": "execute_result"
    }
   ],
   "source": [
    "# Checking new income group column\n",
    "df.head(5)"
   ]
  },
  {
   "cell_type": "code",
   "execution_count": 135,
   "id": "49d95e3d",
   "metadata": {},
   "outputs": [],
   "source": [
    "# Creating table investigating spending habits by age_group\n",
    "crosstab = pd.crosstab(df['Spending_flag'], df['age_group'], dropna = False)"
   ]
  },
  {
   "cell_type": "code",
   "execution_count": 136,
   "id": "5e36d1a0",
   "metadata": {},
   "outputs": [],
   "source": [
    "# Sending spending table to excel\n",
    "crosstab.to_clipboard()"
   ]
  },
  {
   "cell_type": "code",
   "execution_count": 139,
   "id": "1aaf4efc",
   "metadata": {},
   "outputs": [],
   "source": [
    "# Creating table investigating income group by age group\n",
    "crosstab = pd.crosstab(df['age_group'], df['income_group'], dropna = False)"
   ]
  },
  {
   "cell_type": "code",
   "execution_count": 140,
   "id": "f866d19c",
   "metadata": {},
   "outputs": [],
   "source": [
    "# Sending age/income table to excel\n",
    "crosstab.to_clipboard()"
   ]
  },
  {
   "cell_type": "code",
   "execution_count": 141,
   "id": "385fb6ce",
   "metadata": {},
   "outputs": [],
   "source": [
    "# Creating table investigating number of dependants by age_group\n",
    "crosstab = pd.crosstab(df['age_group'], df['n_dependants'], dropna = False)"
   ]
  },
  {
   "cell_type": "code",
   "execution_count": 142,
   "id": "302530b7",
   "metadata": {},
   "outputs": [],
   "source": [
    "# Sending age/income table to excel\n",
    "crosstab.to_clipboard()"
   ]
  },
  {
   "cell_type": "code",
   "execution_count": 143,
   "id": "f329bdc7",
   "metadata": {},
   "outputs": [],
   "source": [
    "# Creating table investigating department usage by age group\n",
    "crosstab = pd.crosstab(df['age_group'], df['department_id'], dropna = False)"
   ]
  },
  {
   "cell_type": "code",
   "execution_count": 144,
   "id": "818ba357",
   "metadata": {},
   "outputs": [],
   "source": [
    "# Sending age/income table to excel\n",
    "crosstab.to_clipboard()"
   ]
  },
  {
   "cell_type": "code",
   "execution_count": 147,
   "id": "e5e069ed",
   "metadata": {},
   "outputs": [],
   "source": [
    "# Creating table investigating department usage by age group\n",
    "crosstab = pd.crosstab(df['age_group'], df['Region'], dropna = False)"
   ]
  },
  {
   "cell_type": "code",
   "execution_count": 148,
   "id": "6bb0b826",
   "metadata": {},
   "outputs": [],
   "source": [
    "# Sending age/income table to excel\n",
    "crosstab.to_clipboard()"
   ]
  },
  {
   "cell_type": "code",
   "execution_count": 150,
   "id": "c021a812",
   "metadata": {},
   "outputs": [
    {
     "data": {
      "text/html": [
       "<div>\n",
       "<style scoped>\n",
       "    .dataframe tbody tr th:only-of-type {\n",
       "        vertical-align: middle;\n",
       "    }\n",
       "\n",
       "    .dataframe tbody tr th {\n",
       "        vertical-align: top;\n",
       "    }\n",
       "\n",
       "    .dataframe thead tr th {\n",
       "        text-align: left;\n",
       "    }\n",
       "\n",
       "    .dataframe thead tr:last-of-type th {\n",
       "        text-align: right;\n",
       "    }\n",
       "</style>\n",
       "<table border=\"1\" class=\"dataframe\">\n",
       "  <thead>\n",
       "    <tr>\n",
       "      <th></th>\n",
       "      <th colspan=\"3\" halign=\"left\">Order_frequency</th>\n",
       "    </tr>\n",
       "    <tr>\n",
       "      <th></th>\n",
       "      <th>mean</th>\n",
       "      <th>min</th>\n",
       "      <th>max</th>\n",
       "    </tr>\n",
       "    <tr>\n",
       "      <th>age_group</th>\n",
       "      <th></th>\n",
       "      <th></th>\n",
       "      <th></th>\n",
       "    </tr>\n",
       "  </thead>\n",
       "  <tbody>\n",
       "    <tr>\n",
       "      <th>Adult</th>\n",
       "      <td>9.955354</td>\n",
       "      <td>0.0</td>\n",
       "      <td>30.0</td>\n",
       "    </tr>\n",
       "    <tr>\n",
       "      <th>Mature Adult</th>\n",
       "      <td>9.941589</td>\n",
       "      <td>0.0</td>\n",
       "      <td>30.0</td>\n",
       "    </tr>\n",
       "    <tr>\n",
       "      <th>Young Adult</th>\n",
       "      <td>9.959362</td>\n",
       "      <td>0.0</td>\n",
       "      <td>30.0</td>\n",
       "    </tr>\n",
       "  </tbody>\n",
       "</table>\n",
       "</div>"
      ],
      "text/plain": [
       "             Order_frequency           \n",
       "                        mean  min   max\n",
       "age_group                              \n",
       "Adult               9.955354  0.0  30.0\n",
       "Mature Adult        9.941589  0.0  30.0\n",
       "Young Adult         9.959362  0.0  30.0"
      ]
     },
     "execution_count": 150,
     "metadata": {},
     "output_type": "execute_result"
    }
   ],
   "source": [
    "# aggregating statistics of spending by age group\n",
    "df.groupby('age_group').agg({'Order_frequency': ['mean', 'min', 'max']})"
   ]
  },
  {
   "cell_type": "code",
   "execution_count": 152,
   "id": "46836981",
   "metadata": {},
   "outputs": [
    {
     "data": {
      "text/html": [
       "<div>\n",
       "<style scoped>\n",
       "    .dataframe tbody tr th:only-of-type {\n",
       "        vertical-align: middle;\n",
       "    }\n",
       "\n",
       "    .dataframe tbody tr th {\n",
       "        vertical-align: top;\n",
       "    }\n",
       "\n",
       "    .dataframe thead tr th {\n",
       "        text-align: left;\n",
       "    }\n",
       "\n",
       "    .dataframe thead tr:last-of-type th {\n",
       "        text-align: right;\n",
       "    }\n",
       "</style>\n",
       "<table border=\"1\" class=\"dataframe\">\n",
       "  <thead>\n",
       "    <tr>\n",
       "      <th></th>\n",
       "      <th colspan=\"3\" halign=\"left\">Spending</th>\n",
       "    </tr>\n",
       "    <tr>\n",
       "      <th></th>\n",
       "      <th>mean</th>\n",
       "      <th>min</th>\n",
       "      <th>max</th>\n",
       "    </tr>\n",
       "    <tr>\n",
       "      <th>age_group</th>\n",
       "      <th></th>\n",
       "      <th></th>\n",
       "      <th></th>\n",
       "    </tr>\n",
       "  </thead>\n",
       "  <tbody>\n",
       "    <tr>\n",
       "      <th>Adult</th>\n",
       "      <td>12.010174</td>\n",
       "      <td>1.000000</td>\n",
       "      <td>15006.940430</td>\n",
       "    </tr>\n",
       "    <tr>\n",
       "      <th>Mature Adult</th>\n",
       "      <td>11.806149</td>\n",
       "      <td>1.262500</td>\n",
       "      <td>14042.512695</td>\n",
       "    </tr>\n",
       "    <tr>\n",
       "      <th>Young Adult</th>\n",
       "      <td>12.133971</td>\n",
       "      <td>1.628572</td>\n",
       "      <td>10209.987305</td>\n",
       "    </tr>\n",
       "  </tbody>\n",
       "</table>\n",
       "</div>"
      ],
      "text/plain": [
       "               Spending                        \n",
       "                   mean       min           max\n",
       "age_group                                      \n",
       "Adult         12.010174  1.000000  15006.940430\n",
       "Mature Adult  11.806149  1.262500  14042.512695\n",
       "Young Adult   12.133971  1.628572  10209.987305"
      ]
     },
     "execution_count": 152,
     "metadata": {},
     "output_type": "execute_result"
    }
   ],
   "source": [
    "# aggregating statistics of spending by age group\n",
    "df.groupby('age_group').agg({'Spending': ['mean', 'min', 'max']})"
   ]
  },
  {
   "cell_type": "code",
   "execution_count": 153,
   "id": "a09bb1ad",
   "metadata": {},
   "outputs": [],
   "source": [
    "# Exporting df to file\n",
    "df.to_pickle(r'C:\\Users\\steph\\OneDrive\\Documents\\May 2022 Instacart Basket Analysis\\02 Data\\Prepared Data\\4.10 pt 1 final.pkl')"
   ]
  }
 ],
 "metadata": {
  "kernelspec": {
   "display_name": "Python 3 (ipykernel)",
   "language": "python",
   "name": "python3"
  },
  "language_info": {
   "codemirror_mode": {
    "name": "ipython",
    "version": 3
   },
   "file_extension": ".py",
   "mimetype": "text/x-python",
   "name": "python",
   "nbconvert_exporter": "python",
   "pygments_lexer": "ipython3",
   "version": "3.9.12"
  }
 },
 "nbformat": 4,
 "nbformat_minor": 5
}
