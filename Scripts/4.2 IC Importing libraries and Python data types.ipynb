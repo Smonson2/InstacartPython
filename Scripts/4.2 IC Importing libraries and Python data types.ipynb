{
 "cells": [
  {
   "cell_type": "code",
   "execution_count": 2,
   "id": "38d3c903",
   "metadata": {},
   "outputs": [],
   "source": [
    "# Import Libraries\n",
    "import pandas as pd\n",
    "import numpy as np\n",
    "import os"
   ]
  },
  {
   "cell_type": "code",
   "execution_count": 3,
   "id": "3cddfc84",
   "metadata": {},
   "outputs": [],
   "source": [
    "# Working with Data Types"
   ]
  },
  {
   "cell_type": "code",
   "execution_count": 4,
   "id": "e69cb376",
   "metadata": {},
   "outputs": [],
   "source": [
    "x = 75"
   ]
  },
  {
   "cell_type": "code",
   "execution_count": 5,
   "id": "de18aea2",
   "metadata": {},
   "outputs": [
    {
     "name": "stdout",
     "output_type": "stream",
     "text": [
      "75\n"
     ]
    }
   ],
   "source": [
    "print(x)"
   ]
  },
  {
   "cell_type": "code",
   "execution_count": 6,
   "id": "e877d3cb",
   "metadata": {},
   "outputs": [],
   "source": [
    "y = 25"
   ]
  },
  {
   "cell_type": "code",
   "execution_count": 7,
   "id": "7fe31504",
   "metadata": {},
   "outputs": [
    {
     "data": {
      "text/plain": [
       "100"
      ]
     },
     "execution_count": 7,
     "metadata": {},
     "output_type": "execute_result"
    }
   ],
   "source": [
    "x + y"
   ]
  },
  {
   "cell_type": "code",
   "execution_count": 8,
   "id": "720e1021",
   "metadata": {},
   "outputs": [],
   "source": [
    "p = 150"
   ]
  },
  {
   "cell_type": "code",
   "execution_count": 9,
   "id": "050c137b",
   "metadata": {},
   "outputs": [],
   "source": [
    "T = 50"
   ]
  },
  {
   "cell_type": "code",
   "execution_count": 10,
   "id": "078cdf5b",
   "metadata": {},
   "outputs": [
    {
     "ename": "NameError",
     "evalue": "name 't' is not defined",
     "output_type": "error",
     "traceback": [
      "\u001b[1;31m---------------------------------------------------------------------------\u001b[0m",
      "\u001b[1;31mNameError\u001b[0m                                 Traceback (most recent call last)",
      "Input \u001b[1;32mIn [10]\u001b[0m, in \u001b[0;36m<cell line: 1>\u001b[1;34m()\u001b[0m\n\u001b[1;32m----> 1\u001b[0m p \u001b[38;5;241m-\u001b[39m \u001b[43mt\u001b[49m\n",
      "\u001b[1;31mNameError\u001b[0m: name 't' is not defined"
     ]
    }
   ],
   "source": [
    "p - t"
   ]
  },
  {
   "cell_type": "code",
   "execution_count": 11,
   "id": "7ca84f0d",
   "metadata": {},
   "outputs": [
    {
     "ename": "NameError",
     "evalue": "name 'P' is not defined",
     "output_type": "error",
     "traceback": [
      "\u001b[1;31m---------------------------------------------------------------------------\u001b[0m",
      "\u001b[1;31mNameError\u001b[0m                                 Traceback (most recent call last)",
      "Input \u001b[1;32mIn [11]\u001b[0m, in \u001b[0;36m<cell line: 1>\u001b[1;34m()\u001b[0m\n\u001b[1;32m----> 1\u001b[0m \u001b[43mP\u001b[49m \u001b[38;5;241m-\u001b[39m T\n",
      "\u001b[1;31mNameError\u001b[0m: name 'P' is not defined"
     ]
    }
   ],
   "source": [
    "P - T"
   ]
  },
  {
   "cell_type": "code",
   "execution_count": 12,
   "id": "44194bf6",
   "metadata": {},
   "outputs": [
    {
     "data": {
      "text/plain": [
       "100"
      ]
     },
     "execution_count": 12,
     "metadata": {},
     "output_type": "execute_result"
    }
   ],
   "source": [
    "p - T"
   ]
  },
  {
   "cell_type": "code",
   "execution_count": 13,
   "id": "6f49c865",
   "metadata": {},
   "outputs": [],
   "source": [
    "c = 20"
   ]
  },
  {
   "cell_type": "code",
   "execution_count": 14,
   "id": "a62d51ec",
   "metadata": {},
   "outputs": [],
   "source": [
    "q = 5"
   ]
  },
  {
   "cell_type": "code",
   "execution_count": 15,
   "id": "6175b058",
   "metadata": {},
   "outputs": [
    {
     "ename": "SyntaxError",
     "evalue": "invalid syntax (638600470.py, line 1)",
     "output_type": "error",
     "traceback": [
      "\u001b[1;36m  Input \u001b[1;32mIn [15]\u001b[1;36m\u001b[0m\n\u001b[1;33m    c x q\u001b[0m\n\u001b[1;37m      ^\u001b[0m\n\u001b[1;31mSyntaxError\u001b[0m\u001b[1;31m:\u001b[0m invalid syntax\n"
     ]
    }
   ],
   "source": [
    "c x q"
   ]
  },
  {
   "cell_type": "code",
   "execution_count": 16,
   "id": "849bc12b",
   "metadata": {},
   "outputs": [
    {
     "data": {
      "text/plain": [
       "100"
      ]
     },
     "execution_count": 16,
     "metadata": {},
     "output_type": "execute_result"
    }
   ],
   "source": [
    "c * q"
   ]
  },
  {
   "cell_type": "code",
   "execution_count": 17,
   "id": "84815d71",
   "metadata": {},
   "outputs": [],
   "source": [
    "g = 64.64"
   ]
  },
  {
   "cell_type": "code",
   "execution_count": 18,
   "id": "76de42ff",
   "metadata": {},
   "outputs": [],
   "source": [
    "h = 2"
   ]
  },
  {
   "cell_type": "code",
   "execution_count": 19,
   "id": "17751b74",
   "metadata": {},
   "outputs": [
    {
     "data": {
      "text/plain": [
       "32.32"
      ]
     },
     "execution_count": 19,
     "metadata": {},
     "output_type": "execute_result"
    }
   ],
   "source": [
    "g/h"
   ]
  },
  {
   "cell_type": "code",
   "execution_count": 20,
   "id": "fedb0649",
   "metadata": {},
   "outputs": [],
   "source": [
    "n = 'apple'"
   ]
  },
  {
   "cell_type": "code",
   "execution_count": 21,
   "id": "4655a09f",
   "metadata": {},
   "outputs": [],
   "source": [
    "o = 'sauce'"
   ]
  },
  {
   "cell_type": "code",
   "execution_count": 22,
   "id": "ff99077b",
   "metadata": {},
   "outputs": [
    {
     "data": {
      "text/plain": [
       "'applesauce'"
      ]
     },
     "execution_count": 22,
     "metadata": {},
     "output_type": "execute_result"
    }
   ],
   "source": [
    "n + o"
   ]
  },
  {
   "cell_type": "code",
   "execution_count": 23,
   "id": "b9afe06d",
   "metadata": {},
   "outputs": [],
   "source": [
    "u = 'I eat chocolate'"
   ]
  },
  {
   "cell_type": "code",
   "execution_count": 24,
   "id": "d01b350f",
   "metadata": {},
   "outputs": [],
   "source": [
    "w = 'cake for breakfast.'"
   ]
  },
  {
   "cell_type": "code",
   "execution_count": 25,
   "id": "5cc05724",
   "metadata": {},
   "outputs": [
    {
     "data": {
      "text/plain": [
       "'I eat chocolatecake for breakfast.'"
      ]
     },
     "execution_count": 25,
     "metadata": {},
     "output_type": "execute_result"
    }
   ],
   "source": [
    "u + w"
   ]
  },
  {
   "cell_type": "code",
   "execution_count": 26,
   "id": "6f730a7c",
   "metadata": {},
   "outputs": [
    {
     "ename": "TypeError",
     "evalue": "unsupported operand type(s) for -: 'str' and 'str'",
     "output_type": "error",
     "traceback": [
      "\u001b[1;31m---------------------------------------------------------------------------\u001b[0m",
      "\u001b[1;31mTypeError\u001b[0m                                 Traceback (most recent call last)",
      "Input \u001b[1;32mIn [26]\u001b[0m, in \u001b[0;36m<cell line: 1>\u001b[1;34m()\u001b[0m\n\u001b[1;32m----> 1\u001b[0m \u001b[43mu\u001b[49m\u001b[43m \u001b[49m\u001b[38;5;241;43m-\u001b[39;49m\u001b[43m \u001b[49m\u001b[38;5;124;43m'\u001b[39;49m\u001b[38;5;124;43mI eat chocolate \u001b[39;49m\u001b[38;5;124;43m'\u001b[39;49m\n",
      "\u001b[1;31mTypeError\u001b[0m: unsupported operand type(s) for -: 'str' and 'str'"
     ]
    }
   ],
   "source": [
    "u - 'I eat chocolate '"
   ]
  },
  {
   "cell_type": "code",
   "execution_count": 27,
   "id": "a6941235",
   "metadata": {},
   "outputs": [],
   "source": [
    "u = 'I eat chocolate'"
   ]
  },
  {
   "cell_type": "code",
   "execution_count": 28,
   "id": "6749beeb",
   "metadata": {},
   "outputs": [],
   "source": [
    "w = ' cake for breakfast.'"
   ]
  },
  {
   "cell_type": "code",
   "execution_count": 29,
   "id": "80cf9437",
   "metadata": {},
   "outputs": [
    {
     "data": {
      "text/plain": [
       "'I eat chocolate cake for breakfast.'"
      ]
     },
     "execution_count": 29,
     "metadata": {},
     "output_type": "execute_result"
    }
   ],
   "source": [
    "u + w"
   ]
  },
  {
   "cell_type": "code",
   "execution_count": 30,
   "id": "4830cb5e",
   "metadata": {},
   "outputs": [],
   "source": [
    "r = 'Everybodys working'"
   ]
  },
  {
   "cell_type": "code",
   "execution_count": 31,
   "id": "758a6c8f",
   "metadata": {},
   "outputs": [],
   "source": [
    "v = ' for the weekend!'"
   ]
  },
  {
   "cell_type": "code",
   "execution_count": 32,
   "id": "41638051",
   "metadata": {},
   "outputs": [
    {
     "data": {
      "text/plain": [
       "'Everybodys working for the weekend!'"
      ]
     },
     "execution_count": 32,
     "metadata": {},
     "output_type": "execute_result"
    }
   ],
   "source": [
    "r + v"
   ]
  },
  {
   "cell_type": "code",
   "execution_count": 33,
   "id": "e6e0b41a",
   "metadata": {},
   "outputs": [
    {
     "ename": "NameError",
     "evalue": "name 'V' is not defined",
     "output_type": "error",
     "traceback": [
      "\u001b[1;31m---------------------------------------------------------------------------\u001b[0m",
      "\u001b[1;31mNameError\u001b[0m                                 Traceback (most recent call last)",
      "Input \u001b[1;32mIn [33]\u001b[0m, in \u001b[0;36m<cell line: 2>\u001b[1;34m()\u001b[0m\n\u001b[0;32m      1\u001b[0m \u001b[38;5;66;03m# Bonus task\u001b[39;00m\n\u001b[1;32m----> 2\u001b[0m r \u001b[38;5;241m+\u001b[39m \u001b[43mV\u001b[49m \u001b[38;5;241m*\u001b[39m \u001b[38;5;241m100\u001b[39m\n",
      "\u001b[1;31mNameError\u001b[0m: name 'V' is not defined"
     ]
    }
   ],
   "source": [
    "# Bonus task\n",
    "r + V * 100"
   ]
  },
  {
   "cell_type": "code",
   "execution_count": 34,
   "id": "7ca83114",
   "metadata": {},
   "outputs": [
    {
     "data": {
      "text/plain": [
       "'Everybodys working for the weekend! for the weekend! for the weekend! for the weekend! for the weekend! for the weekend! for the weekend! for the weekend! for the weekend! for the weekend! for the weekend! for the weekend! for the weekend! for the weekend! for the weekend! for the weekend! for the weekend! for the weekend! for the weekend! for the weekend! for the weekend! for the weekend! for the weekend! for the weekend! for the weekend! for the weekend! for the weekend! for the weekend! for the weekend! for the weekend! for the weekend! for the weekend! for the weekend! for the weekend! for the weekend! for the weekend! for the weekend! for the weekend! for the weekend! for the weekend! for the weekend! for the weekend! for the weekend! for the weekend! for the weekend! for the weekend! for the weekend! for the weekend! for the weekend! for the weekend! for the weekend! for the weekend! for the weekend! for the weekend! for the weekend! for the weekend! for the weekend! for the weekend! for the weekend! for the weekend! for the weekend! for the weekend! for the weekend! for the weekend! for the weekend! for the weekend! for the weekend! for the weekend! for the weekend! for the weekend! for the weekend! for the weekend! for the weekend! for the weekend! for the weekend! for the weekend! for the weekend! for the weekend! for the weekend! for the weekend! for the weekend! for the weekend! for the weekend! for the weekend! for the weekend! for the weekend! for the weekend! for the weekend! for the weekend! for the weekend! for the weekend! for the weekend! for the weekend! for the weekend! for the weekend! for the weekend! for the weekend! for the weekend! for the weekend! for the weekend!'"
      ]
     },
     "execution_count": 34,
     "metadata": {},
     "output_type": "execute_result"
    }
   ],
   "source": [
    "r + v * 100"
   ]
  },
  {
   "cell_type": "code",
   "execution_count": null,
   "id": "d0510dc0",
   "metadata": {},
   "outputs": [],
   "source": []
  }
 ],
 "metadata": {
  "kernelspec": {
   "display_name": "Python 3 (ipykernel)",
   "language": "python",
   "name": "python3"
  },
  "language_info": {
   "codemirror_mode": {
    "name": "ipython",
    "version": 3
   },
   "file_extension": ".py",
   "mimetype": "text/x-python",
   "name": "python",
   "nbconvert_exporter": "python",
   "pygments_lexer": "ipython3",
   "version": "3.9.12"
  }
 },
 "nbformat": 4,
 "nbformat_minor": 5
}
